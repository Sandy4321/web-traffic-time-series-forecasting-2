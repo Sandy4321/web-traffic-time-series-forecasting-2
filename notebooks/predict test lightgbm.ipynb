{
 "cells": [
  {
   "cell_type": "code",
   "execution_count": 1,
   "metadata": {
    "collapsed": true
   },
   "outputs": [],
   "source": [
    "import pandas as pd\n",
    "import numpy as np\n",
    "\n",
    "pd.options.display.max_columns = 999\n",
    "\n",
    "from dateutil.relativedelta import relativedelta"
   ]
  },
  {
   "cell_type": "code",
   "execution_count": 2,
   "metadata": {
    "collapsed": true
   },
   "outputs": [],
   "source": [
    "train = pd.read_csv(\"../data/new_train.csv\")\n",
    "test = pd.read_csv(\"../data/key_2.csv\")"
   ]
  },
  {
   "cell_type": "code",
   "execution_count": 3,
   "metadata": {},
   "outputs": [],
   "source": [
    "train = train.iloc[:10000].melt(id_vars=\"Page\", value_vars=list(train.columns[1:]), var_name=\"Date\", value_name=\"Visits\")\n",
    "train[\"Visits\"].fillna(0, inplace=True)\n",
    "train[\"Visits\"] = train[\"Visits\"].astype(int)\n",
    "train[\"Date\"] = train[\"Date\"].astype('datetime64[ns]')\n",
    "train['Year'] = train[\"Date\"].dt.year\n",
    "train['Month'] = train[\"Date\"].dt.month\n",
    "train['Day'] = train[\"Date\"].dt.day\n",
    "train['DayOfWeek'] = train[\"Date\"].dt.dayofweek"
   ]
  },
  {
   "cell_type": "code",
   "execution_count": 4,
   "metadata": {},
   "outputs": [],
   "source": [
    "test = test.loc[test[\"Page\"] < 10000]\n",
    "test[\"Date\"] = test[\"Id\"].apply(lambda x: str(x.split(\"_\")[1]))\n",
    "test[\"Date\"] = test[\"Date\"].astype('datetime64[ns]')\n",
    "test['Year'] = test[\"Date\"].dt.year\n",
    "test['Month'] = test[\"Date\"].dt.month\n",
    "test['Day'] = test[\"Date\"].dt.day\n",
    "test['DayOfWeek'] = test[\"Date\"].dt.dayofweek"
   ]
  },
  {
   "cell_type": "code",
   "execution_count": 5,
   "metadata": {},
   "outputs": [],
   "source": [
    "for year in [1]:\n",
    "    for month in [0]:\n",
    "        for day in [-1, 0, 1]:\n",
    "            temp = train.copy()\n",
    "            temp[\"Date\"] = temp[\"Date\"].apply(lambda x: x + relativedelta(years=year, months=month, days=day))\n",
    "            temp = temp[~temp.duplicated(subset=[\"Page\", \"Date\"], keep='first')]\n",
    "            temp.rename(columns={\"Visits\": \"prev_Visits_{}_{}_{}\".format(year, month, day)}, inplace=True)\n",
    "            break"
   ]
  },
  {
   "cell_type": "code",
   "execution_count": 6,
   "metadata": {
    "collapsed": true
   },
   "outputs": [],
   "source": [
    "def create_features_last_year(df, target_train, target_test):\n",
    "    for year in [1]:\n",
    "        for month in [0]:\n",
    "            for day in [-1, 0, 1]:\n",
    "                temp = df.copy()\n",
    "                temp[\"Date\"] = temp[\"Date\"].apply(lambda x: x + relativedelta(years=year, months=month, days=day))\n",
    "                temp = temp[~temp.duplicated(subset=[\"Page\", \"Date\"], keep='first')]\n",
    "                temp.rename(columns={\"Visits\": \"prev_Visits_{}_{}_{}\".format(year, month, day)}, inplace=True)\n",
    "                target_train = target_train.merge(temp[[\"Page\", \"Date\", \"prev_Visits_{}_{}_{}\".format(year, month, day)]], on=[\"Page\", \"Date\"], how='left')\n",
    "                target_train[\"prev_Visits_{}_{}_{}\".format(year, month, day)] = target_train[\"prev_Visits_{}_{}_{}\".format(year, month, day)].fillna(0).astype(int)\n",
    "                target_test = target_test.merge(temp[[\"Page\", \"Date\", \"prev_Visits_{}_{}_{}\".format(year, month, day)]], on=[\"Page\", \"Date\"], how='left')\n",
    "                target_test[\"prev_Visits_{}_{}_{}\".format(year, month, day)] = target_test[\"prev_Visits_{}_{}_{}\".format(year, month, day)].fillna(0).astype(int)\n",
    "    return target_train, target_test"
   ]
  },
  {
   "cell_type": "code",
   "execution_count": 7,
   "metadata": {},
   "outputs": [],
   "source": [
    "train, test = create_features_last_year(train, train, test)"
   ]
  },
  {
   "cell_type": "code",
   "execution_count": 8,
   "metadata": {},
   "outputs": [],
   "source": [
    "default_month = '2017-05-10'\n",
    "new_train = train.loc[(train[\"Date\"] <= pd.to_datetime(default_month)) & \\\n",
    "                      (train[\"Date\"] >= pd.to_datetime(default_month) - relativedelta(months=2))]"
   ]
  },
  {
   "cell_type": "code",
   "execution_count": 9,
   "metadata": {},
   "outputs": [
    {
     "name": "stdout",
     "output_type": "stream",
     "text": [
      "Train: 2017-03-10 – 2017-05-10     Test: 2017-06-10 – 2017-08-10\n"
     ]
    }
   ],
   "source": [
    "print(\"Train:\", str(new_train[\"Date\"].min())[:10], \"–\", str(new_train[\"Date\"].max())[:10],\n",
    "          \"    Test:\", str(test[\"Date\"].min())[:10], \"–\", str(test[\"Date\"].max())[:10])"
   ]
  },
  {
   "cell_type": "code",
   "execution_count": 10,
   "metadata": {
    "collapsed": true
   },
   "outputs": [],
   "source": [
    "import lightgbm as lgb\n",
    "param = {}\n",
    "param['application'] = 'regression_l2'\n",
    "param['learning_rate'] = 0.1\n",
    "param['feature_fraction'] = 0.5\n",
    "param['bagging_fraction'] = 0.5\n",
    "param['bagging_freq'] = 1\n",
    "param['max_depth'] = 5\n",
    "param['num_threads'] = 4\n",
    "param[\"verbose\"] = 0\n",
    "\n",
    "from numba import jit\n",
    "import math\n",
    "\n",
    "@jit\n",
    "def smape_fast(y_true, y_pred):\n",
    "    out = 0\n",
    "    for i in range(y_true.shape[0]):\n",
    "        a = y_true[i]\n",
    "        b = y_pred[i]\n",
    "        if b < 1:\n",
    "            b = 0\n",
    "        c = a+b\n",
    "        if c == 0:\n",
    "            continue\n",
    "        out += math.fabs(a - b) / c\n",
    "    out *= (200.0 / y_true.shape[0])\n",
    "    return out\n",
    "\n",
    "def lgb_smape(preds, df):\n",
    "    labels = df.get_label()\n",
    "    labels, preds = np.expm1(np.array(labels)), np.expm1(np.array(preds))\n",
    "    return 'smape', smape_fast(labels, preds), False"
   ]
  },
  {
   "cell_type": "code",
   "execution_count": 11,
   "metadata": {
    "collapsed": true
   },
   "outputs": [],
   "source": [
    "def create_lag_features(df, target, lags):\n",
    "    temp = pd.pivot_table(df.loc[(df[\"Date\"] > target[\"Date\"].min() - relativedelta(days=8+lags))&\n",
    "                                 (df[\"Date\"] < target[\"Date\"].min() - relativedelta(days=8))], \n",
    "                          index=[\"Page\"], values=[\"Visits\"], columns=[\"Date\"]).reset_index()\n",
    "    temp.columns = [\"lag_{}\".format(i)  if j[1] != \"\" else j[0] for i, j in enumerate(temp.columns)]\n",
    "    target = target.merge(temp, how='left')\n",
    "    return target\n",
    "\n",
    "def create_agg_features(df, target, lags, columns, name):\n",
    "    temp = df.loc[(df[\"Date\"] > target[\"Date\"].min() - relativedelta(months=2, days=8+lags))&\n",
    "                  (df[\"Date\"] < target[\"Date\"].min() - relativedelta(days=8))].groupby(columns)[\"Visits\"].agg([\"median\", \"mean\", \"std\", \"min\", \"max\"]).reset_index()\n",
    "    temp.columns = columns + [col + name + str(lags) for col in [\"median\", \"mean\", \"std\", \"min\", \"max\"]]\n",
    "    return temp\n",
    "\n",
    "def creating_features(df, target):\n",
    "    temp = target.merge(create_agg_features(df, target, 10, [\"Page\", \"DayOfWeek\"], \"_p_d_\"), how='left', on=[\"Page\", \"DayOfWeek\"])\n",
    "    temp = temp.merge(create_agg_features(df, target, 10, [\"Page\"], \"_p_\"), how='left', on=[\"Page\"])\n",
    "    # create lag features\n",
    "    temp = create_lag_features(train, temp, 20)\n",
    "    # months from 0 to 2\n",
    "    for i, j in enumerate(temp[\"Month\"].unique()):\n",
    "        temp[\"Month\"].replace(j, i, inplace=True)\n",
    "    return temp"
   ]
  },
  {
   "cell_type": "code",
   "execution_count": 12,
   "metadata": {},
   "outputs": [],
   "source": [
    "# TRAIN\n",
    "# create aggregated features\n",
    "new_train = creating_features(train, new_train)\n",
    "test = creating_features(train, test)\n",
    "\n",
    "# apply log to all numeric features\n",
    "numeric_features = [\"Visits\"] + list(new_train.columns[7:])\n",
    "new_train[numeric_features] = np.log1p(new_train[numeric_features])\n",
    "test[numeric_features[1:]] = np.log1p(test[numeric_features[1:]])\n",
    "\n",
    "# preparing data from model\n",
    "train_features = list(new_train.columns[4:])\n",
    "lgb_train = lgb.Dataset(new_train[train_features], label=new_train[\"Visits\"], free_raw_data=False)"
   ]
  },
  {
   "cell_type": "code",
   "execution_count": 69,
   "metadata": {},
   "outputs": [],
   "source": [
    "# TRAIN\n",
    "# create aggregated features\n",
    "new_train = new_train.merge(train.loc[(train[\"Date\"] > new_train[\"Date\"].min() - relativedelta(months=2, days=30))&\n",
    "                                      (train[\"Date\"] < new_train[\"Date\"].min() - relativedelta(days=8))].groupby([\"Page\", \"DayOfWeek\"])[\"Visits\"].agg([\"median\", \"mean\", \"std\", \"min\", \"max\"]).reset_index(), how='left', on=[\"Page\", \"DayOfWeek\"])\n",
    "new_train = new_train.merge(train.loc[(train[\"Date\"] > new_train[\"Date\"].min() - relativedelta(months=2, days=30))&\n",
    "                                      (train[\"Date\"] < new_train[\"Date\"].min() - relativedelta(days=8))].groupby([\"Page\"])[\"Visits\"].agg([\"median\", \"mean\", \"std\", \"min\", \"max\"]).reset_index(), how='left', on=[\"Page\"])\n",
    "# create lag features\n",
    "new_train = create_lag_features(train, new_train, 20)\n",
    "# months from 0 to 2\n",
    "for i, j in enumerate(new_train[\"Month\"].unique()):\n",
    "    new_train[\"Month\"].replace(j, i, inplace=True)\n",
    "\n",
    "# VAL\n",
    "# create aggregated features\n",
    "test = test.merge(train.loc[(train[\"Date\"] > test[\"Date\"].min() - relativedelta(months=2, days=30))&\n",
    "                            (train[\"Date\"] < test[\"Date\"].min() - relativedelta(days=8))].groupby([\"Page\", \"DayOfWeek\"])[\"Visits\"].agg([\"median\", \"mean\", \"std\", \"min\", \"max\"]).reset_index(), how='left', on=[\"Page\", \"DayOfWeek\"])\n",
    "test = test.merge(train.loc[(train[\"Date\"] > test[\"Date\"].min() - relativedelta(months=2, days=30))&\n",
    "                            (train[\"Date\"] < test[\"Date\"].min() - relativedelta(days=8))].groupby([\"Page\"])[\"Visits\"].agg([\"median\", \"mean\", \"std\", \"min\", \"max\"]).reset_index(), how='left', on=[\"Page\"])\n",
    "# create lag features\n",
    "test = create_lag_features(train, test, 20)\n",
    "# months from 0 to 2\n",
    "for i, j in enumerate(test[\"Month\"].unique()):\n",
    "    test[\"Month\"].replace(j, i, inplace=True)"
   ]
  },
  {
   "cell_type": "code",
   "execution_count": 71,
   "metadata": {},
   "outputs": [],
   "source": [
    "# apply log to all numeric features\n",
    "numeric_features = list(new_train.columns[7:])\n",
    "new_train[[\"Visits\"] + numeric_features] = np.log1p(new_train[[\"Visits\"] + numeric_features])\n",
    "test[numeric_features] = np.log1p(test[numeric_features])\n",
    "\n",
    "# preparing data from model\n",
    "train_features = list(new_train.columns[4:])\n",
    "lgb_train = lgb.Dataset(new_train[train_features], label=new_train[\"Visits\"], free_raw_data=False)"
   ]
  },
  {
   "cell_type": "code",
   "execution_count": 19,
   "metadata": {},
   "outputs": [],
   "source": [
    "model = lgb.train(param, lgb_train, 30, feval=lgb_smape, verbose_eval=0)"
   ]
  },
  {
   "cell_type": "code",
   "execution_count": 20,
   "metadata": {},
   "outputs": [],
   "source": [
    "test[\"log_Visits\"] = model.predict(test[train_features])\n",
    "test[\"Visits\"] = np.expm1(test[\"log_Visits\"])\n",
    "test.loc[test[\"Visits\"] < 1, \"Visits\"] = 0"
   ]
  },
  {
   "cell_type": "code",
   "execution_count": 21,
   "metadata": {},
   "outputs": [
    {
     "name": "stdout",
     "output_type": "stream",
     "text": [
      "Month 24\n",
      "Day 17\n",
      "DayOfWeek 11\n",
      "prev_Visits_1_0_-1 56\n",
      "prev_Visits_1_0_0 37\n",
      "prev_Visits_1_0_1 30\n",
      "median_p_d_10 60\n",
      "mean_p_d_10 14\n",
      "std_p_d_10 2\n",
      "min_p_d_10 43\n",
      "max_p_d_10 1\n",
      "median_p_10 47\n",
      "mean_p_10 34\n",
      "std_p_10 25\n",
      "min_p_10 11\n",
      "max_p_10 23\n",
      "lag_1 19\n",
      "lag_2 14\n",
      "lag_3 7\n",
      "lag_4 15\n",
      "lag_5 13\n",
      "lag_6 32\n",
      "lag_7 26\n",
      "lag_8 10\n",
      "lag_9 14\n",
      "lag_10 13\n",
      "lag_11 17\n",
      "lag_12 32\n",
      "lag_13 50\n",
      "lag_14 28\n",
      "lag_15 19\n",
      "lag_16 25\n",
      "lag_17 37\n",
      "lag_18 55\n",
      "lag_19 39\n"
     ]
    }
   ],
   "source": [
    "for i,j in zip(train_features, model.feature_importance()):\n",
    "    print(i, j)"
   ]
  },
  {
   "cell_type": "code",
   "execution_count": 22,
   "metadata": {
    "collapsed": true
   },
   "outputs": [],
   "source": [
    "def smape(y_true, y_pred):\n",
    "    denominator = (np.abs(y_true) + np.abs(y_pred)) / 200.0\n",
    "    diff = np.abs(y_true - y_pred) / denominator\n",
    "    diff[denominator == 0] = 0.0\n",
    "    return np.mean(diff)"
   ]
  },
  {
   "cell_type": "code",
   "execution_count": 23,
   "metadata": {
    "collapsed": true
   },
   "outputs": [],
   "source": [
    "true_answers = pd.read_csv(\"../data/test_new_data.csv\")"
   ]
  },
  {
   "cell_type": "code",
   "execution_count": 24,
   "metadata": {},
   "outputs": [
    {
     "data": {
      "text/html": [
       "<div>\n",
       "<style>\n",
       "    .dataframe thead tr:only-child th {\n",
       "        text-align: right;\n",
       "    }\n",
       "\n",
       "    .dataframe thead th {\n",
       "        text-align: left;\n",
       "    }\n",
       "\n",
       "    .dataframe tbody tr th {\n",
       "        vertical-align: top;\n",
       "    }\n",
       "</style>\n",
       "<table border=\"1\" class=\"dataframe\">\n",
       "  <thead>\n",
       "    <tr style=\"text-align: right;\">\n",
       "      <th></th>\n",
       "      <th>Id</th>\n",
       "      <th>Visits</th>\n",
       "    </tr>\n",
       "  </thead>\n",
       "  <tbody>\n",
       "    <tr>\n",
       "      <th>0</th>\n",
       "      <td>0_2017-06-10</td>\n",
       "      <td>37.0</td>\n",
       "    </tr>\n",
       "    <tr>\n",
       "      <th>1</th>\n",
       "      <td>1_2017-06-10</td>\n",
       "      <td>30.0</td>\n",
       "    </tr>\n",
       "    <tr>\n",
       "      <th>2</th>\n",
       "      <td>2_2017-06-10</td>\n",
       "      <td>6.0</td>\n",
       "    </tr>\n",
       "    <tr>\n",
       "      <th>3</th>\n",
       "      <td>3_2017-06-10</td>\n",
       "      <td>15.0</td>\n",
       "    </tr>\n",
       "    <tr>\n",
       "      <th>4</th>\n",
       "      <td>4_2017-06-10</td>\n",
       "      <td>22.0</td>\n",
       "    </tr>\n",
       "  </tbody>\n",
       "</table>\n",
       "</div>"
      ],
      "text/plain": [
       "             Id  Visits\n",
       "0  0_2017-06-10    37.0\n",
       "1  1_2017-06-10    30.0\n",
       "2  2_2017-06-10     6.0\n",
       "3  3_2017-06-10    15.0\n",
       "4  4_2017-06-10    22.0"
      ]
     },
     "execution_count": 24,
     "metadata": {},
     "output_type": "execute_result"
    }
   ],
   "source": [
    "true_answers.head()"
   ]
  },
  {
   "cell_type": "code",
   "execution_count": 25,
   "metadata": {},
   "outputs": [],
   "source": [
    "temp = true_answers.merge(test[[\"Id\", \"Visits\", \"median_p_d_10\"]], how='inner', on=[\"Id\"])"
   ]
  },
  {
   "cell_type": "code",
   "execution_count": 26,
   "metadata": {},
   "outputs": [
    {
     "data": {
      "text/plain": [
       "42.949620114956176"
      ]
     },
     "execution_count": 26,
     "metadata": {},
     "output_type": "execute_result"
    }
   ],
   "source": [
    "smape(temp[\"Visits_x\"], np.expm1(temp[\"median_p_d_10\"]))"
   ]
  },
  {
   "cell_type": "code",
   "execution_count": 29,
   "metadata": {},
   "outputs": [
    {
     "data": {
      "text/plain": [
       "38.476878112844801"
      ]
     },
     "execution_count": 29,
     "metadata": {},
     "output_type": "execute_result"
    }
   ],
   "source": [
    "smape(temp[\"Visits_x\"], temp[\"Visits_y\"])"
   ]
  }
 ],
 "metadata": {
  "kernelspec": {
   "display_name": "Python 3",
   "language": "python",
   "name": "python3"
  },
  "language_info": {
   "codemirror_mode": {
    "name": "ipython",
    "version": 3
   },
   "file_extension": ".py",
   "mimetype": "text/x-python",
   "name": "python",
   "nbconvert_exporter": "python",
   "pygments_lexer": "ipython3",
   "version": "3.6.1"
  }
 },
 "nbformat": 4,
 "nbformat_minor": 2
}
