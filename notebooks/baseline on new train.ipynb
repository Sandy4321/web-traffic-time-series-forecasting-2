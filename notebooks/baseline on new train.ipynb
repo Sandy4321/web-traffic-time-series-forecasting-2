{
 "cells": [
  {
   "cell_type": "code",
   "execution_count": 1,
   "metadata": {
    "collapsed": true
   },
   "outputs": [],
   "source": [
    "import pandas as pd\n",
    "import numpy as np\n",
    "import gc"
   ]
  },
  {
   "cell_type": "code",
   "execution_count": 2,
   "metadata": {},
   "outputs": [],
   "source": [
    "train = pd.read_csv(\"../data/new_train.csv\", parse_dates=[\"date\"], dtype={\"Page\": str, \"Visits\": 'float32'})\n",
    "train = train.loc[(train[\"date\"] >= '2016-05-10') & (train[\"date\"] <= '2016-08-31')]\n",
    "train.fillna(0, inplace=True)\n",
    "test = pd.read_csv(\"../data/new_test.csv\", parse_dates=[\"date\"], dtype={\"Page\": str, \"Visits\": 'float32'})\n",
    "test.fillna(0, inplace=True)\n",
    "train[\"Visits\"] = train[\"Visits\"].astype(\"int32\")\n",
    "test[\"Visits\"] = test[\"Visits\"].astype(\"int32\")"
   ]
  },
  {
   "cell_type": "code",
   "execution_count": 3,
   "metadata": {
    "collapsed": true
   },
   "outputs": [],
   "source": [
    "def pandas_smape(df):\n",
    "    df.fillna(0, inplace=True)\n",
    "    df[\"SMAPE\"] = 200 * np.abs(df[\"Visits\"] - df[\"pred_Visits\"]) / (df[\"Visits\"] + df[\"pred_Visits\"])\n",
    "    df[\"SMAPE\"].fillna(0, inplace=True)\n",
    "    return np.mean(df[\"SMAPE\"])"
   ]
  },
  {
   "cell_type": "markdown",
   "metadata": {},
   "source": [
    "## Last day baseline"
   ]
  },
  {
   "cell_type": "code",
   "execution_count": 4,
   "metadata": {
    "collapsed": true
   },
   "outputs": [],
   "source": [
    "baseline_df = train[train[\"date\"] == '2016-08-31'].copy()\n",
    "baseline_df.rename(columns={\"Visits\": \"pred_Visits\"}, inplace=True)\n",
    "baseline_df.drop(\"date\", axis=1, inplace=True)"
   ]
  },
  {
   "cell_type": "code",
   "execution_count": 5,
   "metadata": {
    "collapsed": true
   },
   "outputs": [],
   "source": [
    "new_test = test.merge(baseline_df, on=\"Page\", how='left').copy()"
   ]
  },
  {
   "cell_type": "code",
   "execution_count": 6,
   "metadata": {},
   "outputs": [
    {
     "data": {
      "text/plain": [
       "54.438516144828704"
      ]
     },
     "execution_count": 6,
     "metadata": {},
     "output_type": "execute_result"
    }
   ],
   "source": [
    "pandas_smape(new_test)"
   ]
  },
  {
   "cell_type": "code",
   "execution_count": 7,
   "metadata": {},
   "outputs": [
    {
     "data": {
      "text/plain": [
       "7"
      ]
     },
     "execution_count": 7,
     "metadata": {},
     "output_type": "execute_result"
    }
   ],
   "source": [
    "gc.collect()"
   ]
  },
  {
   "cell_type": "markdown",
   "metadata": {},
   "source": [
    "## Median baseline"
   ]
  },
  {
   "cell_type": "code",
   "execution_count": 8,
   "metadata": {
    "collapsed": true
   },
   "outputs": [],
   "source": [
    "train[\"weekend\"] = ((train[\"date\"].dt.dayofweek) // 5 == 1).astype(int)\n",
    "test[\"weekend\"] = ((test[\"date\"].dt.dayofweek) // 5 == 1).astype(int)\n",
    "new_test = test.copy()\n",
    "baseline_df = train.loc[train[\"date\"] >= '2016-08-01'].groupby(['Page','weekend']).median().reset_index()\n",
    "baseline_df.rename(columns={\"Visits\": \"pred_Visits\"}, inplace=True)"
   ]
  },
  {
   "cell_type": "code",
   "execution_count": 9,
   "metadata": {},
   "outputs": [],
   "source": [
    "new_test = new_test.merge(baseline_df, on=[\"Page\", \"weekend\"], how='left')"
   ]
  },
  {
   "cell_type": "code",
   "execution_count": 10,
   "metadata": {},
   "outputs": [
    {
     "data": {
      "text/plain": [
       "50.539351281591962"
      ]
     },
     "execution_count": 10,
     "metadata": {},
     "output_type": "execute_result"
    }
   ],
   "source": [
    "pandas_smape(new_test)"
   ]
  },
  {
   "cell_type": "code",
   "execution_count": 11,
   "metadata": {},
   "outputs": [
    {
     "data": {
      "text/plain": [
       "63"
      ]
     },
     "execution_count": 11,
     "metadata": {},
     "output_type": "execute_result"
    }
   ],
   "source": [
    "gc.collect()"
   ]
  },
  {
   "cell_type": "markdown",
   "metadata": {},
   "source": [
    "## Linear baseline"
   ]
  },
  {
   "cell_type": "code",
   "execution_count": 48,
   "metadata": {
    "collapsed": true
   },
   "outputs": [],
   "source": [
    "from sklearn.linear_model import LinearRegression"
   ]
  },
  {
   "cell_type": "code",
   "execution_count": 49,
   "metadata": {
    "collapsed": true
   },
   "outputs": [],
   "source": [
    "val = train.loc[(train[\"date\"] >= '2016-06-10') & (train[\"date\"] <= '2016-08-10')]\n",
    "new_train = train.loc[train[\"date\"] < '2016-06-10']"
   ]
  },
  {
   "cell_type": "code",
   "execution_count": 50,
   "metadata": {
    "collapsed": true
   },
   "outputs": [],
   "source": [
    "new_train = pd.pivot_table(new_train,index=[\"Page\"], values=[\"Visits\"], columns=[\"date\"]).reset_index()\n",
    "new_train.columns = [\"lag_{}\".format(i)  if j[1] != \"\" else j[0] for i, j in enumerate(new_train.columns)]"
   ]
  },
  {
   "cell_type": "code",
   "execution_count": 51,
   "metadata": {
    "collapsed": true
   },
   "outputs": [],
   "source": [
    "new_train = val.merge(new_train, on=\"Page\", how='left')"
   ]
  },
  {
   "cell_type": "code",
   "execution_count": 52,
   "metadata": {},
   "outputs": [],
   "source": [
    "new_train['Month']      = new_train[\"date\"].dt.month - 5\n",
    "new_train['Day']        = new_train[\"date\"].dt.day\n",
    "new_train['DayOfWeek']  = new_train[\"date\"].dt.dayofweek"
   ]
  },
  {
   "cell_type": "code",
   "execution_count": 53,
   "metadata": {},
   "outputs": [
    {
     "data": {
      "text/plain": [
       "LinearRegression(copy_X=True, fit_intercept=True, n_jobs=-1, normalize=False)"
      ]
     },
     "execution_count": 53,
     "metadata": {},
     "output_type": "execute_result"
    }
   ],
   "source": [
    "lr = LinearRegression(n_jobs=-1)\n",
    "lr.fit(new_train[new_train.columns[3:]], new_train[\"Visits\"])"
   ]
  },
  {
   "cell_type": "code",
   "execution_count": 54,
   "metadata": {},
   "outputs": [],
   "source": [
    "new_test = train.loc[(train[\"date\"] >= '2016-07-10') & (train[\"date\"] < '2016-08-10')]\n",
    "new_test = pd.pivot_table(new_test,index=[\"Page\"], values=[\"Visits\"], columns=[\"date\"]).reset_index()\n",
    "new_test.columns = [\"lag_{}\".format(i)  if j[1] != \"\" else j[0] for i, j in enumerate(new_test.columns)]\n",
    "new_test = test.merge(new_test, on=\"Page\", how='left')\n",
    "\n",
    "new_test['Month']     = new_test[\"date\"].dt.month - 8\n",
    "new_test['Day']       = new_test[\"date\"].dt.day\n",
    "new_test['DayOfWeek'] = new_test[\"date\"].dt.dayofweek"
   ]
  },
  {
   "cell_type": "code",
   "execution_count": 55,
   "metadata": {},
   "outputs": [
    {
     "data": {
      "text/plain": [
       "346"
      ]
     },
     "execution_count": 55,
     "metadata": {},
     "output_type": "execute_result"
    }
   ],
   "source": [
    "new_test[\"pred_Visits\"] = lr.predict(new_test[new_test.columns[3:]])\n",
    "gc.collect()"
   ]
  },
  {
   "cell_type": "code",
   "execution_count": 56,
   "metadata": {},
   "outputs": [
    {
     "data": {
      "text/plain": [
       "144.75810464169882"
      ]
     },
     "execution_count": 56,
     "metadata": {},
     "output_type": "execute_result"
    }
   ],
   "source": [
    "new_test.loc[new_test[\"pred_Visits\"] < 3, \"pred_Visits\"] = 0\n",
    "pandas_smape(new_test)"
   ]
  },
  {
   "cell_type": "markdown",
   "metadata": {},
   "source": [
    "## Linear model with OHE date features"
   ]
  },
  {
   "cell_type": "code",
   "execution_count": 60,
   "metadata": {},
   "outputs": [
    {
     "data": {
      "text/plain": [
       "LinearRegression(copy_X=True, fit_intercept=True, n_jobs=-1, normalize=False)"
      ]
     },
     "execution_count": 60,
     "metadata": {},
     "output_type": "execute_result"
    }
   ],
   "source": [
    "lr = LinearRegression(n_jobs=-1)\n",
    "lr.fit(pd.get_dummies(new_train[new_train.columns[3:]],columns=[\"Month\", \"Day\", \"DayOfWeek\"]), new_train[\"Visits\"])"
   ]
  },
  {
   "cell_type": "code",
   "execution_count": 61,
   "metadata": {},
   "outputs": [
    {
     "data": {
      "text/plain": [
       "1234"
      ]
     },
     "execution_count": 61,
     "metadata": {},
     "output_type": "execute_result"
    }
   ],
   "source": [
    "new_test = train.loc[(train[\"date\"] >= '2016-07-10') & (train[\"date\"] < '2016-08-10')]\n",
    "new_test = pd.pivot_table(new_test,index=[\"Page\"], values=[\"Visits\"], columns=[\"date\"]).reset_index()\n",
    "new_test.columns = [\"lag_{}\".format(i)  if j[1] != \"\" else j[0] for i, j in enumerate(new_test.columns)]\n",
    "new_test = test.merge(new_test, on=\"Page\", how='left')\n",
    "\n",
    "new_test['Month']     = new_test[\"date\"].dt.month - 8\n",
    "new_test['Day']       = new_test[\"date\"].dt.day\n",
    "new_test['DayOfWeek'] = new_test[\"date\"].dt.dayofweek\n",
    "new_test[\"pred_Visits\"] = lr.predict(pd.get_dummies(new_test[new_test.columns[3:]],columns=[\"Month\", \"Day\", \"DayOfWeek\"]))\n",
    "gc.collect()"
   ]
  },
  {
   "cell_type": "code",
   "execution_count": 62,
   "metadata": {},
   "outputs": [
    {
     "data": {
      "text/plain": [
       "145.8104157943682"
      ]
     },
     "execution_count": 62,
     "metadata": {},
     "output_type": "execute_result"
    }
   ],
   "source": [
    "new_test.loc[new_test[\"pred_Visits\"] < 3, \"pred_Visits\"] = 0\n",
    "pandas_smape(new_test)"
   ]
  }
 ],
 "metadata": {
  "kernelspec": {
   "display_name": "Python 3",
   "language": "python",
   "name": "python3"
  },
  "language_info": {
   "codemirror_mode": {
    "name": "ipython",
    "version": 3
   },
   "file_extension": ".py",
   "mimetype": "text/x-python",
   "name": "python",
   "nbconvert_exporter": "python",
   "pygments_lexer": "ipython3",
   "version": "3.6.1"
  }
 },
 "nbformat": 4,
 "nbformat_minor": 2
}
