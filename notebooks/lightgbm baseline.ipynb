{
 "cells": [
  {
   "cell_type": "code",
   "execution_count": 1,
   "metadata": {
    "collapsed": true
   },
   "outputs": [],
   "source": [
    "import pandas as pd\n",
    "import numpy as np\n",
    "import gc\n",
    "\n",
    "from dateutil.relativedelta import relativedelta"
   ]
  },
  {
   "cell_type": "code",
   "execution_count": 2,
   "metadata": {
    "collapsed": true
   },
   "outputs": [],
   "source": [
    "train = pd.read_csv(\"../data/new_train.csv\", parse_dates=[\"date\"], dtype={\"Page\": str, \"Visits\": 'float32'})\n",
    "train = train.loc[(train[\"date\"] >= '2016-03-01') & (train[\"date\"] <= '2016-08-31')]\n",
    "train.fillna(0, inplace=True)\n",
    "test = pd.read_csv(\"../data/new_test.csv\", parse_dates=[\"date\"], dtype={\"Page\": str, \"Visits\": 'float32'})\n",
    "test.fillna(0, inplace=True)\n",
    "train[\"Visits\"] = np.log1p(train[\"Visits\"]).astype(\"float64\")\n",
    "test[\"Visits\"] = np.log1p(test[\"Visits\"]).astype(\"float64\")"
   ]
  },
  {
   "cell_type": "code",
   "execution_count": 3,
   "metadata": {
    "collapsed": true
   },
   "outputs": [],
   "source": [
    "def create_features(df, month, target=None):\n",
    "    if type(target) != type(pd.DataFrame()):\n",
    "        target = df.loc[(df[\"date\"] >= pd.to_datetime(month)) & (df[\"date\"] <= pd.to_datetime(month) + relativedelta(months=2))]\n",
    "    temp = df.loc[(train[\"date\"] < pd.to_datetime(month) + relativedelta(days=-10)) & (df[\"date\"] >= pd.to_datetime(month) + relativedelta(days=-40))].copy()\n",
    "    temp = pd.pivot_table(temp, index=[\"Page\"], values=[\"Visits\"], columns=[\"date\"]).reset_index()\n",
    "    temp.columns = [\"lag_{}\".format(i)  if j[1] != \"\" else j[0] for i, j in enumerate(temp.columns)]\n",
    "\n",
    "    temp = target.merge(temp, on=\"Page\", how='left')\n",
    "\n",
    "    temp['Month']     = temp[\"date\"].dt.month\n",
    "    temp['Month']     = temp['Month'] - temp['Month'].min()\n",
    "    temp['Day']       = temp[\"date\"].dt.day\n",
    "    temp['DayOfWeek'] = temp[\"date\"].dt.dayofweek\n",
    "    return temp\n",
    "    "
   ]
  },
  {
   "cell_type": "code",
   "execution_count": 4,
   "metadata": {
    "collapsed": true
   },
   "outputs": [],
   "source": [
    "new_train = create_features(train, '2016-04-10')\n",
    "new_val = create_features(train, '2016-06-10')"
   ]
  },
  {
   "cell_type": "code",
   "execution_count": 5,
   "metadata": {},
   "outputs": [
    {
     "data": {
      "text/html": [
       "<div>\n",
       "<style>\n",
       "    .dataframe thead tr:only-child th {\n",
       "        text-align: right;\n",
       "    }\n",
       "\n",
       "    .dataframe thead th {\n",
       "        text-align: left;\n",
       "    }\n",
       "\n",
       "    .dataframe tbody tr th {\n",
       "        vertical-align: top;\n",
       "    }\n",
       "</style>\n",
       "<table border=\"1\" class=\"dataframe\">\n",
       "  <thead>\n",
       "    <tr style=\"text-align: right;\">\n",
       "      <th></th>\n",
       "      <th>Page</th>\n",
       "      <th>date</th>\n",
       "      <th>Visits</th>\n",
       "      <th>lag_1</th>\n",
       "      <th>lag_2</th>\n",
       "      <th>lag_3</th>\n",
       "      <th>lag_4</th>\n",
       "      <th>lag_5</th>\n",
       "      <th>lag_6</th>\n",
       "      <th>lag_7</th>\n",
       "      <th>...</th>\n",
       "      <th>lag_24</th>\n",
       "      <th>lag_25</th>\n",
       "      <th>lag_26</th>\n",
       "      <th>lag_27</th>\n",
       "      <th>lag_28</th>\n",
       "      <th>lag_29</th>\n",
       "      <th>lag_30</th>\n",
       "      <th>Month</th>\n",
       "      <th>Day</th>\n",
       "      <th>DayOfWeek</th>\n",
       "    </tr>\n",
       "  </thead>\n",
       "  <tbody>\n",
       "    <tr>\n",
       "      <th>0</th>\n",
       "      <td>2NE1_zh.wikipedia.org_all-access_spider</td>\n",
       "      <td>2016-04-10</td>\n",
       "      <td>4.276666</td>\n",
       "      <td>2.944439</td>\n",
       "      <td>3.761200</td>\n",
       "      <td>2.772589</td>\n",
       "      <td>1.791759</td>\n",
       "      <td>3.091043</td>\n",
       "      <td>4.043051</td>\n",
       "      <td>2.302585</td>\n",
       "      <td>...</td>\n",
       "      <td>2.197225</td>\n",
       "      <td>2.772589</td>\n",
       "      <td>2.484907</td>\n",
       "      <td>3.044523</td>\n",
       "      <td>4.094345</td>\n",
       "      <td>2.484907</td>\n",
       "      <td>2.944439</td>\n",
       "      <td>0</td>\n",
       "      <td>10</td>\n",
       "      <td>6</td>\n",
       "    </tr>\n",
       "    <tr>\n",
       "      <th>1</th>\n",
       "      <td>2PM_zh.wikipedia.org_all-access_spider</td>\n",
       "      <td>2016-04-10</td>\n",
       "      <td>2.995732</td>\n",
       "      <td>2.890372</td>\n",
       "      <td>3.135494</td>\n",
       "      <td>3.295837</td>\n",
       "      <td>2.833213</td>\n",
       "      <td>2.833213</td>\n",
       "      <td>3.367296</td>\n",
       "      <td>2.995732</td>\n",
       "      <td>...</td>\n",
       "      <td>2.708050</td>\n",
       "      <td>2.772589</td>\n",
       "      <td>2.708050</td>\n",
       "      <td>2.772589</td>\n",
       "      <td>3.367296</td>\n",
       "      <td>3.610918</td>\n",
       "      <td>3.178054</td>\n",
       "      <td>0</td>\n",
       "      <td>10</td>\n",
       "      <td>6</td>\n",
       "    </tr>\n",
       "    <tr>\n",
       "      <th>2</th>\n",
       "      <td>3C_zh.wikipedia.org_all-access_spider</td>\n",
       "      <td>2016-04-10</td>\n",
       "      <td>2.197225</td>\n",
       "      <td>1.791759</td>\n",
       "      <td>1.098612</td>\n",
       "      <td>0.693147</td>\n",
       "      <td>1.609438</td>\n",
       "      <td>2.079442</td>\n",
       "      <td>1.098612</td>\n",
       "      <td>1.098612</td>\n",
       "      <td>...</td>\n",
       "      <td>2.302585</td>\n",
       "      <td>1.791759</td>\n",
       "      <td>0.693147</td>\n",
       "      <td>1.945910</td>\n",
       "      <td>2.079442</td>\n",
       "      <td>1.609438</td>\n",
       "      <td>1.945910</td>\n",
       "      <td>0</td>\n",
       "      <td>10</td>\n",
       "      <td>6</td>\n",
       "    </tr>\n",
       "    <tr>\n",
       "      <th>3</th>\n",
       "      <td>4minute_zh.wikipedia.org_all-access_spider</td>\n",
       "      <td>2016-04-10</td>\n",
       "      <td>2.708050</td>\n",
       "      <td>2.397895</td>\n",
       "      <td>2.564949</td>\n",
       "      <td>2.197225</td>\n",
       "      <td>2.833213</td>\n",
       "      <td>2.639057</td>\n",
       "      <td>2.197225</td>\n",
       "      <td>2.890372</td>\n",
       "      <td>...</td>\n",
       "      <td>2.397895</td>\n",
       "      <td>2.397895</td>\n",
       "      <td>2.833213</td>\n",
       "      <td>2.564949</td>\n",
       "      <td>2.564949</td>\n",
       "      <td>2.639057</td>\n",
       "      <td>3.258096</td>\n",
       "      <td>0</td>\n",
       "      <td>10</td>\n",
       "      <td>6</td>\n",
       "    </tr>\n",
       "    <tr>\n",
       "      <th>4</th>\n",
       "      <td>5566_zh.wikipedia.org_all-access_spider</td>\n",
       "      <td>2016-04-10</td>\n",
       "      <td>2.890372</td>\n",
       "      <td>2.833213</td>\n",
       "      <td>2.397895</td>\n",
       "      <td>2.484907</td>\n",
       "      <td>2.944439</td>\n",
       "      <td>3.988984</td>\n",
       "      <td>5.365976</td>\n",
       "      <td>3.044523</td>\n",
       "      <td>...</td>\n",
       "      <td>2.484907</td>\n",
       "      <td>2.484907</td>\n",
       "      <td>2.197225</td>\n",
       "      <td>2.484907</td>\n",
       "      <td>2.708050</td>\n",
       "      <td>2.890372</td>\n",
       "      <td>2.639057</td>\n",
       "      <td>0</td>\n",
       "      <td>10</td>\n",
       "      <td>6</td>\n",
       "    </tr>\n",
       "  </tbody>\n",
       "</table>\n",
       "<p>5 rows × 36 columns</p>\n",
       "</div>"
      ],
      "text/plain": [
       "                                         Page       date    Visits     lag_1  \\\n",
       "0     2NE1_zh.wikipedia.org_all-access_spider 2016-04-10  4.276666  2.944439   \n",
       "1      2PM_zh.wikipedia.org_all-access_spider 2016-04-10  2.995732  2.890372   \n",
       "2       3C_zh.wikipedia.org_all-access_spider 2016-04-10  2.197225  1.791759   \n",
       "3  4minute_zh.wikipedia.org_all-access_spider 2016-04-10  2.708050  2.397895   \n",
       "4     5566_zh.wikipedia.org_all-access_spider 2016-04-10  2.890372  2.833213   \n",
       "\n",
       "      lag_2     lag_3     lag_4     lag_5     lag_6     lag_7    ...      \\\n",
       "0  3.761200  2.772589  1.791759  3.091043  4.043051  2.302585    ...       \n",
       "1  3.135494  3.295837  2.833213  2.833213  3.367296  2.995732    ...       \n",
       "2  1.098612  0.693147  1.609438  2.079442  1.098612  1.098612    ...       \n",
       "3  2.564949  2.197225  2.833213  2.639057  2.197225  2.890372    ...       \n",
       "4  2.397895  2.484907  2.944439  3.988984  5.365976  3.044523    ...       \n",
       "\n",
       "     lag_24    lag_25    lag_26    lag_27    lag_28    lag_29    lag_30  \\\n",
       "0  2.197225  2.772589  2.484907  3.044523  4.094345  2.484907  2.944439   \n",
       "1  2.708050  2.772589  2.708050  2.772589  3.367296  3.610918  3.178054   \n",
       "2  2.302585  1.791759  0.693147  1.945910  2.079442  1.609438  1.945910   \n",
       "3  2.397895  2.397895  2.833213  2.564949  2.564949  2.639057  3.258096   \n",
       "4  2.484907  2.484907  2.197225  2.484907  2.708050  2.890372  2.639057   \n",
       "\n",
       "   Month  Day  DayOfWeek  \n",
       "0      0   10          6  \n",
       "1      0   10          6  \n",
       "2      0   10          6  \n",
       "3      0   10          6  \n",
       "4      0   10          6  \n",
       "\n",
       "[5 rows x 36 columns]"
      ]
     },
     "execution_count": 5,
     "metadata": {},
     "output_type": "execute_result"
    }
   ],
   "source": [
    "new_train.head()"
   ]
  },
  {
   "cell_type": "code",
   "execution_count": 6,
   "metadata": {
    "collapsed": true
   },
   "outputs": [],
   "source": [
    "train_cols = [ 'lag_1', 'lag_2', 'lag_3', 'lag_4', 'lag_5',\n",
    "               'lag_6', 'lag_7', 'lag_8', 'lag_9', 'lag_10', 'lag_11', 'lag_12',\n",
    "               'lag_13', 'lag_14', 'lag_15', 'lag_16', 'lag_17', 'lag_18', 'lag_19',\n",
    "               'lag_20', 'lag_21', 'lag_22', 'lag_23', 'lag_24', 'lag_25', 'lag_26',\n",
    "               'lag_27', 'lag_28', 'lag_29', 'lag_30', 'Month', 'Day', 'DayOfWeek']"
   ]
  },
  {
   "cell_type": "code",
   "execution_count": 7,
   "metadata": {},
   "outputs": [
    {
     "name": "stdout",
     "output_type": "stream",
     "text": [
      "Train:      2016-04-10 - 2016-06-10\n",
      "Validation: 2016-06-10 - 2016-08-10\n"
     ]
    }
   ],
   "source": [
    "print(\"Train:      {} - {}\".format(str(new_train[\"date\"].min())[:10], str(new_train[\"date\"].max())[:10]))\n",
    "print(\"Validation: {} - {}\".format(str(new_val[\"date\"].min())[:10], str(new_val[\"date\"].max())[:10]))"
   ]
  },
  {
   "cell_type": "code",
   "execution_count": 8,
   "metadata": {
    "collapsed": true
   },
   "outputs": [],
   "source": [
    "import lightgbm as lgb\n",
    "param = {}\n",
    "param['application'] = 'regression_l2'\n",
    "param['learning_rate'] = 0.1\n",
    "param['feature_fraction'] = 0.5\n",
    "param['bagging_fraction'] = 0.5\n",
    "param['bagging_freq'] = 1\n",
    "param['max_depth'] = 5\n",
    "param['num_threads'] = 4\n",
    "param['verbose'] = 0\n",
    "\n",
    "from numba import jit\n",
    "import math\n",
    "\n",
    "@jit\n",
    "def smape_fast(y_true, y_pred):\n",
    "    out = 0\n",
    "    for i in range(y_true.shape[0]):\n",
    "        a = y_true[i]\n",
    "        b = y_pred[i]\n",
    "        if b < 1:\n",
    "            b = 0\n",
    "        c = a+b\n",
    "        if c == 0:\n",
    "            continue\n",
    "        out += math.fabs(a - b) / c\n",
    "    out *= (200.0 / y_true.shape[0])\n",
    "    return out\n",
    "\n",
    "def lgb_smape(preds, df):\n",
    "    labels = df.get_label()\n",
    "    labels, preds = np.expm1(np.array(labels)), np.expm1(np.array(preds))\n",
    "    return 'smape', smape_fast(labels, preds), False"
   ]
  },
  {
   "cell_type": "code",
   "execution_count": 9,
   "metadata": {},
   "outputs": [
    {
     "name": "stdout",
     "output_type": "stream",
     "text": [
      "[1]\ttraining's smape: 121.955\tvalid_1's smape: 119.773\n",
      "Training until validation scores don't improve for 10 rounds.\n",
      "[2]\ttraining's smape: 115.947\tvalid_1's smape: 113.565\n",
      "[3]\ttraining's smape: 109.993\tvalid_1's smape: 107.459\n",
      "[4]\ttraining's smape: 104.182\tvalid_1's smape: 101.527\n",
      "[5]\ttraining's smape: 98.5578\tvalid_1's smape: 95.7759\n",
      "[6]\ttraining's smape: 93.205\tvalid_1's smape: 90.3907\n",
      "[7]\ttraining's smape: 88.1416\tvalid_1's smape: 85.3332\n",
      "[8]\ttraining's smape: 83.4334\tvalid_1's smape: 80.7206\n",
      "[9]\ttraining's smape: 79.0633\tvalid_1's smape: 76.5166\n",
      "[10]\ttraining's smape: 75.0614\tvalid_1's smape: 72.6865\n",
      "[11]\ttraining's smape: 71.4268\tvalid_1's smape: 69.3088\n",
      "[12]\ttraining's smape: 68.1542\tvalid_1's smape: 66.3267\n",
      "[13]\ttraining's smape: 65.2317\tvalid_1's smape: 63.6469\n",
      "[14]\ttraining's smape: 62.6581\tvalid_1's smape: 61.3667\n",
      "[15]\ttraining's smape: 60.3924\tvalid_1's smape: 59.4091\n",
      "[16]\ttraining's smape: 58.4272\tvalid_1's smape: 57.7517\n",
      "[17]\ttraining's smape: 56.7371\tvalid_1's smape: 56.3821\n",
      "[18]\ttraining's smape: 55.2813\tvalid_1's smape: 55.215\n",
      "[19]\ttraining's smape: 54.0555\tvalid_1's smape: 54.2502\n",
      "[20]\ttraining's smape: 53.0118\tvalid_1's smape: 53.4537\n",
      "[21]\ttraining's smape: 52.1252\tvalid_1's smape: 52.8086\n",
      "[22]\ttraining's smape: 51.396\tvalid_1's smape: 52.2902\n",
      "[23]\ttraining's smape: 50.7923\tvalid_1's smape: 51.8754\n",
      "[24]\ttraining's smape: 50.2878\tvalid_1's smape: 51.5467\n",
      "[25]\ttraining's smape: 49.8772\tvalid_1's smape: 51.3049\n",
      "[26]\ttraining's smape: 49.5117\tvalid_1's smape: 51.1014\n",
      "[27]\ttraining's smape: 49.2058\tvalid_1's smape: 50.9542\n",
      "[28]\ttraining's smape: 48.96\tvalid_1's smape: 50.8439\n",
      "[29]\ttraining's smape: 48.7692\tvalid_1's smape: 50.7655\n",
      "[30]\ttraining's smape: 48.6115\tvalid_1's smape: 50.717\n",
      "[31]\ttraining's smape: 48.4735\tvalid_1's smape: 50.6856\n",
      "[32]\ttraining's smape: 48.3546\tvalid_1's smape: 50.6583\n",
      "[33]\ttraining's smape: 48.2429\tvalid_1's smape: 50.6322\n",
      "[34]\ttraining's smape: 48.1651\tvalid_1's smape: 50.6275\n",
      "[35]\ttraining's smape: 46.8398\tvalid_1's smape: 49.3911\n",
      "[36]\ttraining's smape: 46.7469\tvalid_1's smape: 49.3686\n",
      "[37]\ttraining's smape: 46.6706\tvalid_1's smape: 49.3502\n",
      "[38]\ttraining's smape: 46.4861\tvalid_1's smape: 49.2213\n",
      "[39]\ttraining's smape: 46.3354\tvalid_1's smape: 49.1304\n",
      "[40]\ttraining's smape: 46.1283\tvalid_1's smape: 48.9579\n",
      "[41]\ttraining's smape: 46.2226\tvalid_1's smape: 49.1011\n",
      "[42]\ttraining's smape: 46.1739\tvalid_1's smape: 49.0999\n",
      "[43]\ttraining's smape: 46.094\tvalid_1's smape: 49.0691\n",
      "[44]\ttraining's smape: 46.0593\tvalid_1's smape: 49.0741\n",
      "[45]\ttraining's smape: 45.958\tvalid_1's smape: 49.0318\n",
      "[46]\ttraining's smape: 45.9872\tvalid_1's smape: 49.0739\n",
      "[47]\ttraining's smape: 45.9174\tvalid_1's smape: 49.0378\n",
      "[48]\ttraining's smape: 45.9483\tvalid_1's smape: 49.0805\n",
      "[49]\ttraining's smape: 45.8844\tvalid_1's smape: 49.044\n",
      "[50]\ttraining's smape: 45.9107\tvalid_1's smape: 49.0752\n",
      "Early stopping, best iteration is:\n",
      "[40]\ttraining's smape: 46.1283\tvalid_1's smape: 48.9579\n"
     ]
    }
   ],
   "source": [
    "lgb_train = lgb.Dataset(new_train[train_cols], label=new_train[\"Visits\"], free_raw_data=False)\n",
    "lgb_val = lgb.Dataset(new_val[train_cols], label=new_val[\"Visits\"], free_raw_data=False, reference=lgb_train)\n",
    "\n",
    "model = lgb.train(param, lgb_train, 1000, valid_sets=[lgb_train,lgb_val], feval=lgb_smape, early_stopping_rounds=10)"
   ]
  },
  {
   "cell_type": "code",
   "execution_count": 10,
   "metadata": {},
   "outputs": [
    {
     "data": {
      "text/plain": [
       "4515"
      ]
     },
     "execution_count": 10,
     "metadata": {},
     "output_type": "execute_result"
    }
   ],
   "source": [
    "gc.collect()"
   ]
  },
  {
   "cell_type": "code",
   "execution_count": 11,
   "metadata": {},
   "outputs": [],
   "source": [
    "new_test = create_features(train, '2016-09-10', test)"
   ]
  },
  {
   "cell_type": "code",
   "execution_count": 12,
   "metadata": {
    "collapsed": true
   },
   "outputs": [],
   "source": [
    "del train, new_train, test, lgb_train, lgb_val, model"
   ]
  },
  {
   "cell_type": "code",
   "execution_count": 13,
   "metadata": {},
   "outputs": [
    {
     "name": "stdout",
     "output_type": "stream",
     "text": [
      "[1]\ttraining's smape: 120.338\tvalid_1's smape: 121.412\n",
      "[2]\ttraining's smape: 114.384\tvalid_1's smape: 115.749\n",
      "[3]\ttraining's smape: 108.527\tvalid_1's smape: 110.188\n",
      "[4]\ttraining's smape: 102.807\tvalid_1's smape: 104.81\n",
      "[5]\ttraining's smape: 97.3307\tvalid_1's smape: 99.5025\n",
      "[6]\ttraining's smape: 92.135\tvalid_1's smape: 94.5814\n",
      "[7]\ttraining's smape: 87.2702\tvalid_1's smape: 89.9196\n",
      "[8]\ttraining's smape: 82.7642\tvalid_1's smape: 85.5888\n",
      "[9]\ttraining's smape: 78.5866\tvalid_1's smape: 81.5416\n",
      "[10]\ttraining's smape: 74.8049\tvalid_1's smape: 77.8673\n",
      "[11]\ttraining's smape: 71.3691\tvalid_1's smape: 74.5653\n",
      "[12]\ttraining's smape: 68.29\tvalid_1's smape: 71.5307\n",
      "[13]\ttraining's smape: 65.5704\tvalid_1's smape: 68.8594\n",
      "[14]\ttraining's smape: 63.1586\tvalid_1's smape: 66.4572\n",
      "[15]\ttraining's smape: 61.0607\tvalid_1's smape: 64.3423\n",
      "[16]\ttraining's smape: 59.2333\tvalid_1's smape: 62.4975\n",
      "[17]\ttraining's smape: 57.6566\tvalid_1's smape: 60.8716\n",
      "[18]\ttraining's smape: 56.304\tvalid_1's smape: 59.4732\n",
      "[19]\ttraining's smape: 55.1489\tvalid_1's smape: 58.2545\n",
      "[20]\ttraining's smape: 54.1817\tvalid_1's smape: 57.2232\n",
      "[21]\ttraining's smape: 53.3535\tvalid_1's smape: 56.3355\n",
      "[22]\ttraining's smape: 52.661\tvalid_1's smape: 55.5892\n",
      "[23]\ttraining's smape: 52.0807\tvalid_1's smape: 54.9483\n",
      "[24]\ttraining's smape: 51.5855\tvalid_1's smape: 54.3881\n",
      "[25]\ttraining's smape: 51.1733\tvalid_1's smape: 53.9176\n",
      "[26]\ttraining's smape: 50.8298\tvalid_1's smape: 53.487\n",
      "[27]\ttraining's smape: 50.5529\tvalid_1's smape: 53.145\n",
      "[28]\ttraining's smape: 50.3096\tvalid_1's smape: 52.84\n",
      "[29]\ttraining's smape: 49.5883\tvalid_1's smape: 52.0942\n",
      "[30]\ttraining's smape: 48.4347\tvalid_1's smape: 50.9227\n",
      "[31]\ttraining's smape: 48.0664\tvalid_1's smape: 50.5211\n",
      "[32]\ttraining's smape: 47.8578\tvalid_1's smape: 50.2759\n",
      "[33]\ttraining's smape: 47.7153\tvalid_1's smape: 50.0772\n",
      "[34]\ttraining's smape: 47.5932\tvalid_1's smape: 49.9068\n",
      "[35]\ttraining's smape: 47.4827\tvalid_1's smape: 49.7793\n",
      "[36]\ttraining's smape: 47.4071\tvalid_1's smape: 49.6644\n",
      "[37]\ttraining's smape: 47.325\tvalid_1's smape: 49.5492\n",
      "[38]\ttraining's smape: 47.2715\tvalid_1's smape: 49.4622\n",
      "[39]\ttraining's smape: 47.2141\tvalid_1's smape: 49.3705\n",
      "[40]\ttraining's smape: 47.168\tvalid_1's smape: 49.2834\n",
      "[41]\ttraining's smape: 47.1364\tvalid_1's smape: 49.2304\n",
      "[42]\ttraining's smape: 47.1162\tvalid_1's smape: 49.1899\n",
      "[43]\ttraining's smape: 47.0928\tvalid_1's smape: 49.1457\n",
      "[44]\ttraining's smape: 47.0685\tvalid_1's smape: 49.1069\n",
      "[45]\ttraining's smape: 47.0414\tvalid_1's smape: 49.0604\n",
      "[46]\ttraining's smape: 47.0301\tvalid_1's smape: 49.0326\n",
      "[47]\ttraining's smape: 47.019\tvalid_1's smape: 49.0088\n",
      "[48]\ttraining's smape: 46.9964\tvalid_1's smape: 48.9718\n",
      "[49]\ttraining's smape: 46.9838\tvalid_1's smape: 48.9478\n",
      "[50]\ttraining's smape: 46.9694\tvalid_1's smape: 48.9275\n"
     ]
    }
   ],
   "source": [
    "# on my server the optimal number of iterations was 50\n",
    "\n",
    "lgb_train = lgb.Dataset(new_val[train_cols], label=new_val[\"Visits\"], free_raw_data=False)\n",
    "lgb_val = lgb.Dataset(new_test[train_cols], label=new_test[\"Visits\"], free_raw_data=False, reference=lgb_train)\n",
    "\n",
    "model = lgb.train(param, lgb_train, 50, valid_sets=[lgb_train,lgb_val], feval=lgb_smape)"
   ]
  }
 ],
 "metadata": {
  "kernelspec": {
   "display_name": "Python 3",
   "language": "python",
   "name": "python3"
  },
  "language_info": {
   "codemirror_mode": {
    "name": "ipython",
    "version": 3
   },
   "file_extension": ".py",
   "mimetype": "text/x-python",
   "name": "python",
   "nbconvert_exporter": "python",
   "pygments_lexer": "ipython3",
   "version": "3.6.1"
  }
 },
 "nbformat": 4,
 "nbformat_minor": 2
}
