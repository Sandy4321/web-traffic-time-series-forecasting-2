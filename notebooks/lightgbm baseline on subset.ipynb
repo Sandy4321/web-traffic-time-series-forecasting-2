{
 "cells": [
  {
   "cell_type": "code",
   "execution_count": 1,
   "metadata": {
    "collapsed": true
   },
   "outputs": [],
   "source": [
    "import pandas as pd\n",
    "import numpy as np\n",
    "import gc\n",
    "import random\n",
    "\n",
    "from dateutil.relativedelta import relativedelta"
   ]
  },
  {
   "cell_type": "code",
   "execution_count": 2,
   "metadata": {
    "collapsed": true
   },
   "outputs": [],
   "source": [
    "train = pd.read_csv(\"../data/new_train.csv\", parse_dates=[\"date\"], dtype={\"Page\": str, \"Visits\": 'float32'})\n",
    "train = train.loc[(train[\"date\"] >= '2016-03-01') & (train[\"date\"] <= '2016-08-31')]\n",
    "test = pd.read_csv(\"../data/new_test.csv\", parse_dates=[\"date\"], dtype={\"Page\": str, \"Visits\": 'float32'})"
   ]
  },
  {
   "cell_type": "code",
   "execution_count": 3,
   "metadata": {},
   "outputs": [],
   "source": [
    "random.seed(2)\n",
    "random_pages = random.sample(set(train[\"Page\"].unique()), 50000)"
   ]
  },
  {
   "cell_type": "code",
   "execution_count": 4,
   "metadata": {},
   "outputs": [],
   "source": [
    "new_train = train.loc[train[\"Page\"].isin(random_pages)].copy()"
   ]
  },
  {
   "cell_type": "code",
   "execution_count": 5,
   "metadata": {},
   "outputs": [
    {
     "data": {
      "text/plain": [
       "1502.6982"
      ]
     },
     "execution_count": 5,
     "metadata": {},
     "output_type": "execute_result"
    }
   ],
   "source": [
    "np.mean(train[\"Visits\"])"
   ]
  },
  {
   "cell_type": "code",
   "execution_count": 6,
   "metadata": {},
   "outputs": [
    {
     "data": {
      "text/plain": [
       "1565.8059"
      ]
     },
     "execution_count": 6,
     "metadata": {},
     "output_type": "execute_result"
    }
   ],
   "source": [
    "np.mean(new_train[\"Visits\"])"
   ]
  },
  {
   "cell_type": "code",
   "execution_count": 7,
   "metadata": {
    "collapsed": true
   },
   "outputs": [],
   "source": [
    "train = train.loc[train[\"Page\"].isin(random_pages)]\n",
    "test = test.loc[test[\"Page\"].isin(random_pages)]\n",
    "train.fillna(0, inplace=True)\n",
    "test.fillna(0, inplace=True)\n",
    "train[\"Visits\"] = np.log1p(train[\"Visits\"]).astype(\"float64\")\n",
    "test[\"Visits\"] = np.log1p(test[\"Visits\"]).astype(\"float64\")\n",
    "del new_train"
   ]
  },
  {
   "cell_type": "code",
   "execution_count": 8,
   "metadata": {},
   "outputs": [
    {
     "data": {
      "text/plain": [
       "7"
      ]
     },
     "execution_count": 8,
     "metadata": {},
     "output_type": "execute_result"
    }
   ],
   "source": [
    "gc.collect()"
   ]
  },
  {
   "cell_type": "code",
   "execution_count": 9,
   "metadata": {
    "collapsed": true
   },
   "outputs": [],
   "source": [
    "def create_features(df, month, target=None):\n",
    "    if type(target) != type(pd.DataFrame()):\n",
    "        target = df.loc[(df[\"date\"] >= pd.to_datetime(month)) & (df[\"date\"] <= pd.to_datetime(month) + relativedelta(months=2))]\n",
    "    temp = df.loc[(train[\"date\"] < pd.to_datetime(month) + relativedelta(days=-10)) & (df[\"date\"] >= pd.to_datetime(month) + relativedelta(days=-40))].copy()\n",
    "    temp = pd.pivot_table(temp, index=[\"Page\"], values=[\"Visits\"], columns=[\"date\"]).reset_index()\n",
    "    temp.columns = [\"lag_{}\".format(i)  if j[1] != \"\" else j[0] for i, j in enumerate(temp.columns)]\n",
    "\n",
    "    temp = target.merge(temp, on=\"Page\", how='left')\n",
    "\n",
    "    temp['Month']     = temp[\"date\"].dt.month\n",
    "    temp['Month']     = temp['Month'] - temp['Month'].min()\n",
    "    temp['Day']       = temp[\"date\"].dt.day\n",
    "    temp['DayOfWeek'] = temp[\"date\"].dt.dayofweek\n",
    "    return temp\n",
    "    "
   ]
  },
  {
   "cell_type": "code",
   "execution_count": 10,
   "metadata": {
    "collapsed": true
   },
   "outputs": [],
   "source": [
    "new_train = create_features(train, '2016-04-10')\n",
    "new_val = create_features(train, '2016-06-10')"
   ]
  },
  {
   "cell_type": "code",
   "execution_count": 11,
   "metadata": {},
   "outputs": [
    {
     "data": {
      "text/html": [
       "<div>\n",
       "<style>\n",
       "    .dataframe thead tr:only-child th {\n",
       "        text-align: right;\n",
       "    }\n",
       "\n",
       "    .dataframe thead th {\n",
       "        text-align: left;\n",
       "    }\n",
       "\n",
       "    .dataframe tbody tr th {\n",
       "        vertical-align: top;\n",
       "    }\n",
       "</style>\n",
       "<table border=\"1\" class=\"dataframe\">\n",
       "  <thead>\n",
       "    <tr style=\"text-align: right;\">\n",
       "      <th></th>\n",
       "      <th>Page</th>\n",
       "      <th>date</th>\n",
       "      <th>Visits</th>\n",
       "      <th>lag_1</th>\n",
       "      <th>lag_2</th>\n",
       "      <th>lag_3</th>\n",
       "      <th>lag_4</th>\n",
       "      <th>lag_5</th>\n",
       "      <th>lag_6</th>\n",
       "      <th>lag_7</th>\n",
       "      <th>...</th>\n",
       "      <th>lag_24</th>\n",
       "      <th>lag_25</th>\n",
       "      <th>lag_26</th>\n",
       "      <th>lag_27</th>\n",
       "      <th>lag_28</th>\n",
       "      <th>lag_29</th>\n",
       "      <th>lag_30</th>\n",
       "      <th>Month</th>\n",
       "      <th>Day</th>\n",
       "      <th>DayOfWeek</th>\n",
       "    </tr>\n",
       "  </thead>\n",
       "  <tbody>\n",
       "    <tr>\n",
       "      <th>0</th>\n",
       "      <td>2NE1_zh.wikipedia.org_all-access_spider</td>\n",
       "      <td>2016-04-10</td>\n",
       "      <td>4.276666</td>\n",
       "      <td>2.944439</td>\n",
       "      <td>3.761200</td>\n",
       "      <td>2.772589</td>\n",
       "      <td>1.791759</td>\n",
       "      <td>3.091043</td>\n",
       "      <td>4.043051</td>\n",
       "      <td>2.302585</td>\n",
       "      <td>...</td>\n",
       "      <td>2.197225</td>\n",
       "      <td>2.772589</td>\n",
       "      <td>2.484907</td>\n",
       "      <td>3.044523</td>\n",
       "      <td>4.094345</td>\n",
       "      <td>2.484907</td>\n",
       "      <td>2.944439</td>\n",
       "      <td>0</td>\n",
       "      <td>10</td>\n",
       "      <td>6</td>\n",
       "    </tr>\n",
       "    <tr>\n",
       "      <th>1</th>\n",
       "      <td>2PM_zh.wikipedia.org_all-access_spider</td>\n",
       "      <td>2016-04-10</td>\n",
       "      <td>2.995732</td>\n",
       "      <td>2.890372</td>\n",
       "      <td>3.135494</td>\n",
       "      <td>3.295837</td>\n",
       "      <td>2.833213</td>\n",
       "      <td>2.833213</td>\n",
       "      <td>3.367296</td>\n",
       "      <td>2.995732</td>\n",
       "      <td>...</td>\n",
       "      <td>2.708050</td>\n",
       "      <td>2.772589</td>\n",
       "      <td>2.708050</td>\n",
       "      <td>2.772589</td>\n",
       "      <td>3.367296</td>\n",
       "      <td>3.610918</td>\n",
       "      <td>3.178054</td>\n",
       "      <td>0</td>\n",
       "      <td>10</td>\n",
       "      <td>6</td>\n",
       "    </tr>\n",
       "    <tr>\n",
       "      <th>2</th>\n",
       "      <td>3C_zh.wikipedia.org_all-access_spider</td>\n",
       "      <td>2016-04-10</td>\n",
       "      <td>2.197225</td>\n",
       "      <td>1.791759</td>\n",
       "      <td>1.098612</td>\n",
       "      <td>0.693147</td>\n",
       "      <td>1.609438</td>\n",
       "      <td>2.079442</td>\n",
       "      <td>1.098612</td>\n",
       "      <td>1.098612</td>\n",
       "      <td>...</td>\n",
       "      <td>2.302585</td>\n",
       "      <td>1.791759</td>\n",
       "      <td>0.693147</td>\n",
       "      <td>1.945910</td>\n",
       "      <td>2.079442</td>\n",
       "      <td>1.609438</td>\n",
       "      <td>1.945910</td>\n",
       "      <td>0</td>\n",
       "      <td>10</td>\n",
       "      <td>6</td>\n",
       "    </tr>\n",
       "    <tr>\n",
       "      <th>3</th>\n",
       "      <td>5566_zh.wikipedia.org_all-access_spider</td>\n",
       "      <td>2016-04-10</td>\n",
       "      <td>2.890372</td>\n",
       "      <td>2.833213</td>\n",
       "      <td>2.397895</td>\n",
       "      <td>2.484907</td>\n",
       "      <td>2.944439</td>\n",
       "      <td>3.988984</td>\n",
       "      <td>5.365976</td>\n",
       "      <td>3.044523</td>\n",
       "      <td>...</td>\n",
       "      <td>2.484907</td>\n",
       "      <td>2.484907</td>\n",
       "      <td>2.197225</td>\n",
       "      <td>2.484907</td>\n",
       "      <td>2.708050</td>\n",
       "      <td>2.890372</td>\n",
       "      <td>2.639057</td>\n",
       "      <td>0</td>\n",
       "      <td>10</td>\n",
       "      <td>6</td>\n",
       "    </tr>\n",
       "    <tr>\n",
       "      <th>4</th>\n",
       "      <td>A'N'D_zh.wikipedia.org_all-access_spider</td>\n",
       "      <td>2016-04-10</td>\n",
       "      <td>2.397895</td>\n",
       "      <td>3.135494</td>\n",
       "      <td>3.583519</td>\n",
       "      <td>2.772589</td>\n",
       "      <td>3.367296</td>\n",
       "      <td>3.091043</td>\n",
       "      <td>3.044523</td>\n",
       "      <td>2.890372</td>\n",
       "      <td>...</td>\n",
       "      <td>3.044523</td>\n",
       "      <td>2.890372</td>\n",
       "      <td>3.044523</td>\n",
       "      <td>2.708050</td>\n",
       "      <td>2.484907</td>\n",
       "      <td>2.944439</td>\n",
       "      <td>2.772589</td>\n",
       "      <td>0</td>\n",
       "      <td>10</td>\n",
       "      <td>6</td>\n",
       "    </tr>\n",
       "  </tbody>\n",
       "</table>\n",
       "<p>5 rows × 36 columns</p>\n",
       "</div>"
      ],
      "text/plain": [
       "                                       Page       date    Visits     lag_1  \\\n",
       "0   2NE1_zh.wikipedia.org_all-access_spider 2016-04-10  4.276666  2.944439   \n",
       "1    2PM_zh.wikipedia.org_all-access_spider 2016-04-10  2.995732  2.890372   \n",
       "2     3C_zh.wikipedia.org_all-access_spider 2016-04-10  2.197225  1.791759   \n",
       "3   5566_zh.wikipedia.org_all-access_spider 2016-04-10  2.890372  2.833213   \n",
       "4  A'N'D_zh.wikipedia.org_all-access_spider 2016-04-10  2.397895  3.135494   \n",
       "\n",
       "      lag_2     lag_3     lag_4     lag_5     lag_6     lag_7    ...      \\\n",
       "0  3.761200  2.772589  1.791759  3.091043  4.043051  2.302585    ...       \n",
       "1  3.135494  3.295837  2.833213  2.833213  3.367296  2.995732    ...       \n",
       "2  1.098612  0.693147  1.609438  2.079442  1.098612  1.098612    ...       \n",
       "3  2.397895  2.484907  2.944439  3.988984  5.365976  3.044523    ...       \n",
       "4  3.583519  2.772589  3.367296  3.091043  3.044523  2.890372    ...       \n",
       "\n",
       "     lag_24    lag_25    lag_26    lag_27    lag_28    lag_29    lag_30  \\\n",
       "0  2.197225  2.772589  2.484907  3.044523  4.094345  2.484907  2.944439   \n",
       "1  2.708050  2.772589  2.708050  2.772589  3.367296  3.610918  3.178054   \n",
       "2  2.302585  1.791759  0.693147  1.945910  2.079442  1.609438  1.945910   \n",
       "3  2.484907  2.484907  2.197225  2.484907  2.708050  2.890372  2.639057   \n",
       "4  3.044523  2.890372  3.044523  2.708050  2.484907  2.944439  2.772589   \n",
       "\n",
       "   Month  Day  DayOfWeek  \n",
       "0      0   10          6  \n",
       "1      0   10          6  \n",
       "2      0   10          6  \n",
       "3      0   10          6  \n",
       "4      0   10          6  \n",
       "\n",
       "[5 rows x 36 columns]"
      ]
     },
     "execution_count": 11,
     "metadata": {},
     "output_type": "execute_result"
    }
   ],
   "source": [
    "new_train.head()"
   ]
  },
  {
   "cell_type": "code",
   "execution_count": 12,
   "metadata": {
    "collapsed": true
   },
   "outputs": [],
   "source": [
    "train_cols = [ 'lag_1', 'lag_2', 'lag_3', 'lag_4', 'lag_5',\n",
    "               'lag_6', 'lag_7', 'lag_8', 'lag_9', 'lag_10', 'lag_11', 'lag_12',\n",
    "               'lag_13', 'lag_14', 'lag_15', 'lag_16', 'lag_17', 'lag_18', 'lag_19',\n",
    "               'lag_20', 'lag_21', 'lag_22', 'lag_23', 'lag_24', 'lag_25', 'lag_26',\n",
    "               'lag_27', 'lag_28', 'lag_29', 'lag_30', 'Month', 'Day', 'DayOfWeek']"
   ]
  },
  {
   "cell_type": "code",
   "execution_count": 13,
   "metadata": {},
   "outputs": [
    {
     "name": "stdout",
     "output_type": "stream",
     "text": [
      "Train:      2016-04-10 - 2016-06-10\n",
      "Validation: 2016-06-10 - 2016-08-10\n"
     ]
    }
   ],
   "source": [
    "print(\"Train:      {} - {}\".format(str(new_train[\"date\"].min())[:10], str(new_train[\"date\"].max())[:10]))\n",
    "print(\"Validation: {} - {}\".format(str(new_val[\"date\"].min())[:10], str(new_val[\"date\"].max())[:10]))"
   ]
  },
  {
   "cell_type": "code",
   "execution_count": 14,
   "metadata": {
    "collapsed": true
   },
   "outputs": [],
   "source": [
    "import lightgbm as lgb\n",
    "param = {}\n",
    "param['application'] = 'regression_l2'\n",
    "param['learning_rate'] = 0.1\n",
    "param['feature_fraction'] = 0.5\n",
    "param['bagging_fraction'] = 0.5\n",
    "param['bagging_freq'] = 1\n",
    "param['max_depth'] = 5\n",
    "param['num_threads'] = 4\n",
    "param['verbose'] = 0\n",
    "\n",
    "from numba import jit\n",
    "import math\n",
    "\n",
    "@jit\n",
    "def smape_fast(y_true, y_pred):\n",
    "    out = 0\n",
    "    for i in range(y_true.shape[0]):\n",
    "        a = y_true[i]\n",
    "        b = y_pred[i]\n",
    "        if b < 1:\n",
    "            b = 0\n",
    "        c = a+b\n",
    "        if c == 0:\n",
    "            continue\n",
    "        out += math.fabs(a - b) / c\n",
    "    out *= (200.0 / y_true.shape[0])\n",
    "    return out\n",
    "\n",
    "def lgb_smape(preds, df):\n",
    "    labels = df.get_label()\n",
    "    labels, preds = np.expm1(np.array(labels)), np.expm1(np.array(preds))\n",
    "    return 'smape', smape_fast(labels, preds), False"
   ]
  },
  {
   "cell_type": "code",
   "execution_count": 15,
   "metadata": {},
   "outputs": [
    {
     "name": "stdout",
     "output_type": "stream",
     "text": [
      "[1]\ttraining's smape: 122.135\tvalid_1's smape: 119.787\n",
      "Training until validation scores don't improve for 10 rounds.\n",
      "[2]\ttraining's smape: 116.116\tvalid_1's smape: 113.509\n",
      "[3]\ttraining's smape: 110.138\tvalid_1's smape: 107.303\n",
      "[4]\ttraining's smape: 104.321\tvalid_1's smape: 101.314\n",
      "[5]\ttraining's smape: 98.691\tvalid_1's smape: 95.597\n",
      "[6]\ttraining's smape: 93.3253\tvalid_1's smape: 90.1823\n",
      "[7]\ttraining's smape: 88.2323\tvalid_1's smape: 85.1667\n",
      "[8]\ttraining's smape: 83.4797\tvalid_1's smape: 80.5636\n",
      "[9]\ttraining's smape: 79.0923\tvalid_1's smape: 76.4159\n",
      "[10]\ttraining's smape: 75.0659\tvalid_1's smape: 72.5733\n",
      "[11]\ttraining's smape: 71.3993\tvalid_1's smape: 69.1857\n",
      "[12]\ttraining's smape: 68.1162\tvalid_1's smape: 66.2667\n",
      "[13]\ttraining's smape: 65.1659\tvalid_1's smape: 63.6003\n",
      "[14]\ttraining's smape: 62.5614\tvalid_1's smape: 61.2966\n",
      "[15]\ttraining's smape: 60.2826\tvalid_1's smape: 59.3545\n",
      "[16]\ttraining's smape: 58.3219\tvalid_1's smape: 57.7493\n",
      "[17]\ttraining's smape: 56.6229\tvalid_1's smape: 56.3803\n",
      "[18]\ttraining's smape: 55.1734\tvalid_1's smape: 55.2389\n",
      "[19]\ttraining's smape: 53.937\tvalid_1's smape: 54.2915\n",
      "[20]\ttraining's smape: 52.8789\tvalid_1's smape: 53.504\n",
      "[21]\ttraining's smape: 52.0047\tvalid_1's smape: 52.8889\n",
      "[22]\ttraining's smape: 51.2634\tvalid_1's smape: 52.3869\n",
      "[23]\ttraining's smape: 50.6603\tvalid_1's smape: 51.9918\n",
      "[24]\ttraining's smape: 50.139\tvalid_1's smape: 51.6727\n",
      "[25]\ttraining's smape: 49.7239\tvalid_1's smape: 51.4506\n",
      "[26]\ttraining's smape: 49.3636\tvalid_1's smape: 51.2699\n",
      "[27]\ttraining's smape: 49.0632\tvalid_1's smape: 51.1485\n",
      "[28]\ttraining's smape: 48.798\tvalid_1's smape: 51.0451\n",
      "[29]\ttraining's smape: 48.5994\tvalid_1's smape: 50.9795\n",
      "[30]\ttraining's smape: 48.4357\tvalid_1's smape: 50.9224\n",
      "[31]\ttraining's smape: 48.3026\tvalid_1's smape: 50.8809\n",
      "[32]\ttraining's smape: 48.0374\tvalid_1's smape: 50.7201\n",
      "[33]\ttraining's smape: 46.7704\tvalid_1's smape: 49.4586\n",
      "[34]\ttraining's smape: 46.5306\tvalid_1's smape: 49.33\n",
      "[35]\ttraining's smape: 46.3173\tvalid_1's smape: 49.2241\n",
      "[36]\ttraining's smape: 46.2116\tvalid_1's smape: 49.185\n",
      "[37]\ttraining's smape: 46.0468\tvalid_1's smape: 49.0808\n",
      "[38]\ttraining's smape: 45.9317\tvalid_1's smape: 49.0341\n",
      "[39]\ttraining's smape: 45.8624\tvalid_1's smape: 48.9874\n",
      "[40]\ttraining's smape: 45.7942\tvalid_1's smape: 48.9715\n",
      "[41]\ttraining's smape: 45.7562\tvalid_1's smape: 48.967\n",
      "[42]\ttraining's smape: 45.7126\tvalid_1's smape: 48.9681\n",
      "[43]\ttraining's smape: 45.6546\tvalid_1's smape: 48.9627\n",
      "[44]\ttraining's smape: 45.6223\tvalid_1's smape: 48.9725\n",
      "[45]\ttraining's smape: 45.5795\tvalid_1's smape: 48.9853\n",
      "[46]\ttraining's smape: 45.5586\tvalid_1's smape: 48.9934\n",
      "[47]\ttraining's smape: 45.5356\tvalid_1's smape: 49.0035\n",
      "[48]\ttraining's smape: 45.5079\tvalid_1's smape: 49.0026\n",
      "[49]\ttraining's smape: 45.4958\tvalid_1's smape: 49.008\n",
      "[50]\ttraining's smape: 45.4797\tvalid_1's smape: 49.0219\n",
      "[51]\ttraining's smape: 45.4332\tvalid_1's smape: 49.0288\n",
      "[52]\ttraining's smape: 45.3967\tvalid_1's smape: 49.0274\n",
      "[53]\ttraining's smape: 45.3719\tvalid_1's smape: 49.0208\n",
      "Early stopping, best iteration is:\n",
      "[43]\ttraining's smape: 45.6546\tvalid_1's smape: 48.9627\n"
     ]
    }
   ],
   "source": [
    "lgb_train = lgb.Dataset(new_train[train_cols], label=new_train[\"Visits\"], free_raw_data=False)\n",
    "lgb_val = lgb.Dataset(new_val[train_cols], label=new_val[\"Visits\"], free_raw_data=False, reference=lgb_train)\n",
    "\n",
    "model = lgb.train(param, lgb_train, 1000, valid_sets=[lgb_train,lgb_val], feval=lgb_smape, early_stopping_rounds=10)"
   ]
  },
  {
   "cell_type": "code",
   "execution_count": 16,
   "metadata": {},
   "outputs": [
    {
     "data": {
      "text/plain": [
       "4515"
      ]
     },
     "execution_count": 16,
     "metadata": {},
     "output_type": "execute_result"
    }
   ],
   "source": [
    "gc.collect()"
   ]
  },
  {
   "cell_type": "code",
   "execution_count": 17,
   "metadata": {
    "collapsed": true
   },
   "outputs": [],
   "source": [
    "new_test = create_features(train, '2016-09-10', test)"
   ]
  },
  {
   "cell_type": "code",
   "execution_count": 18,
   "metadata": {
    "collapsed": true
   },
   "outputs": [],
   "source": [
    "del train, new_train, test, lgb_train, lgb_val, model"
   ]
  },
  {
   "cell_type": "code",
   "execution_count": 19,
   "metadata": {},
   "outputs": [
    {
     "name": "stdout",
     "output_type": "stream",
     "text": [
      "[1]\ttraining's smape: 120.425\tvalid_1's smape: 121.516\n",
      "[2]\ttraining's smape: 114.49\tvalid_1's smape: 115.856\n",
      "[3]\ttraining's smape: 108.633\tvalid_1's smape: 110.323\n",
      "[4]\ttraining's smape: 102.91\tvalid_1's smape: 104.937\n",
      "[5]\ttraining's smape: 97.4187\tvalid_1's smape: 99.6301\n",
      "[6]\ttraining's smape: 92.2466\tvalid_1's smape: 94.7072\n",
      "[7]\ttraining's smape: 87.3806\tvalid_1's smape: 90.0377\n",
      "[8]\ttraining's smape: 82.854\tvalid_1's smape: 85.7104\n",
      "[9]\ttraining's smape: 78.6804\tvalid_1's smape: 81.6777\n",
      "[10]\ttraining's smape: 74.8646\tvalid_1's smape: 77.9816\n",
      "[11]\ttraining's smape: 71.4296\tvalid_1's smape: 74.6734\n",
      "[12]\ttraining's smape: 68.347\tvalid_1's smape: 71.6786\n",
      "[13]\ttraining's smape: 65.6256\tvalid_1's smape: 69.0209\n",
      "[14]\ttraining's smape: 63.2201\tvalid_1's smape: 66.6279\n",
      "[15]\ttraining's smape: 61.1032\tvalid_1's smape: 64.5152\n",
      "[16]\ttraining's smape: 59.2803\tvalid_1's smape: 62.6619\n",
      "[17]\ttraining's smape: 57.7012\tvalid_1's smape: 61.0528\n",
      "[18]\ttraining's smape: 56.3368\tvalid_1's smape: 59.6398\n",
      "[19]\ttraining's smape: 55.1791\tvalid_1's smape: 58.422\n",
      "[20]\ttraining's smape: 54.1946\tvalid_1's smape: 57.3912\n",
      "[21]\ttraining's smape: 53.3697\tvalid_1's smape: 56.5115\n",
      "[22]\ttraining's smape: 52.678\tvalid_1's smape: 55.7531\n",
      "[23]\ttraining's smape: 52.0835\tvalid_1's smape: 55.1008\n",
      "[24]\ttraining's smape: 51.5908\tvalid_1's smape: 54.537\n",
      "[25]\ttraining's smape: 51.1655\tvalid_1's smape: 54.057\n",
      "[26]\ttraining's smape: 50.8152\tvalid_1's smape: 53.6478\n",
      "[27]\ttraining's smape: 49.2146\tvalid_1's smape: 52.1249\n",
      "[28]\ttraining's smape: 48.7108\tvalid_1's smape: 51.6052\n",
      "[29]\ttraining's smape: 48.3172\tvalid_1's smape: 51.0966\n",
      "[30]\ttraining's smape: 48.0316\tvalid_1's smape: 50.7821\n",
      "[31]\ttraining's smape: 47.8331\tvalid_1's smape: 50.5156\n",
      "[32]\ttraining's smape: 47.6692\tvalid_1's smape: 50.2978\n",
      "[33]\ttraining's smape: 47.5107\tvalid_1's smape: 50.0965\n",
      "[34]\ttraining's smape: 47.4071\tvalid_1's smape: 49.9567\n",
      "[35]\ttraining's smape: 47.3114\tvalid_1's smape: 49.8259\n",
      "[36]\ttraining's smape: 47.2367\tvalid_1's smape: 49.7166\n",
      "[37]\ttraining's smape: 47.1716\tvalid_1's smape: 49.623\n",
      "[38]\ttraining's smape: 47.1206\tvalid_1's smape: 49.5412\n",
      "[39]\ttraining's smape: 47.0702\tvalid_1's smape: 49.4655\n",
      "[40]\ttraining's smape: 47.0176\tvalid_1's smape: 49.3862\n",
      "[41]\ttraining's smape: 46.9792\tvalid_1's smape: 49.3388\n",
      "[42]\ttraining's smape: 46.9574\tvalid_1's smape: 49.3\n",
      "[43]\ttraining's smape: 46.9264\tvalid_1's smape: 49.2536\n",
      "[44]\ttraining's smape: 46.9016\tvalid_1's smape: 49.2169\n",
      "[45]\ttraining's smape: 46.8594\tvalid_1's smape: 49.1713\n",
      "[46]\ttraining's smape: 46.8488\tvalid_1's smape: 49.1478\n",
      "[47]\ttraining's smape: 46.8387\tvalid_1's smape: 49.1345\n",
      "[48]\ttraining's smape: 46.8248\tvalid_1's smape: 49.1068\n",
      "[49]\ttraining's smape: 46.8016\tvalid_1's smape: 49.0842\n",
      "[50]\ttraining's smape: 46.7898\tvalid_1's smape: 49.0653\n"
     ]
    }
   ],
   "source": [
    "# on my server the optimal number of iterations was 50\n",
    "\n",
    "lgb_train = lgb.Dataset(new_val[train_cols], label=new_val[\"Visits\"], free_raw_data=False)\n",
    "lgb_val = lgb.Dataset(new_test[train_cols], label=new_test[\"Visits\"], free_raw_data=False, reference=lgb_train)\n",
    "\n",
    "model = lgb.train(param, lgb_train, 50, valid_sets=[lgb_train,lgb_val], feval=lgb_smape)"
   ]
  },
  {
   "cell_type": "code",
   "execution_count": null,
   "metadata": {
    "collapsed": true
   },
   "outputs": [],
   "source": []
  }
 ],
 "metadata": {
  "kernelspec": {
   "display_name": "Python 3",
   "language": "python",
   "name": "python3"
  },
  "language_info": {
   "codemirror_mode": {
    "name": "ipython",
    "version": 3
   },
   "file_extension": ".py",
   "mimetype": "text/x-python",
   "name": "python",
   "nbconvert_exporter": "python",
   "pygments_lexer": "ipython3",
   "version": "3.6.1"
  }
 },
 "nbformat": 4,
 "nbformat_minor": 2
}
