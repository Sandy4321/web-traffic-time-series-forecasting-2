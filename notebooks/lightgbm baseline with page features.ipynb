{
 "cells": [
  {
   "cell_type": "code",
   "execution_count": 1,
   "metadata": {
    "collapsed": true
   },
   "outputs": [],
   "source": [
    "import pandas as pd\n",
    "import numpy as np\n",
    "import gc\n",
    "import re\n",
    "\n",
    "from dateutil.relativedelta import relativedelta"
   ]
  },
  {
   "cell_type": "code",
   "execution_count": 2,
   "metadata": {
    "collapsed": true
   },
   "outputs": [],
   "source": [
    "train = pd.read_csv(\"../data/new_train.csv\", parse_dates=[\"date\"], dtype={\"Page\": str, \"Visits\": 'float32'})\n",
    "train = train.loc[(train[\"date\"] >= '2016-03-01') & (train[\"date\"] <= '2016-08-31')]\n",
    "train.fillna(0, inplace=True)\n",
    "train.reset_index(drop=True, inplace=True)\n",
    "test = pd.read_csv(\"../data/new_test.csv\", parse_dates=[\"date\"], dtype={\"Page\": str, \"Visits\": 'float32'})\n",
    "test.fillna(0, inplace=True)\n",
    "test.reset_index(drop=True, inplace=True)\n",
    "train[\"Visits\"] = np.log1p(train[\"Visits\"]).astype(\"float64\")\n",
    "test[\"Visits\"] = np.log1p(test[\"Visits\"]).astype(\"float64\")"
   ]
  },
  {
   "cell_type": "code",
   "execution_count": 3,
   "metadata": {
    "collapsed": true
   },
   "outputs": [],
   "source": [
    "def get_language(page):\n",
    "    res = re.search('[a-z][a-z].wikipedia.org',page)\n",
    "    if res:\n",
    "        return res[0][0:2]\n",
    "    return 'na'\n",
    "\n",
    "def get_language(page):\n",
    "    res = re.search('[a-z][a-z].wikipedia.org',page)\n",
    "    if res:\n",
    "        return res.group(0)[0:2]\n",
    "    return 'na'\n",
    "\n",
    "train['lang'] = train[\"Page\"].map(get_language)\n",
    "test['lang'] = test[\"Page\"].map(get_language)\n",
    "\n",
    "components = pd.DataFrame([i.split(\"_\")[-3:] for i in train[\"Page\"]])\n",
    "components.columns = ['Project', 'Access', 'Agent']\n",
    "\n",
    "train[['Project', 'Access', 'Agent']] = components[['Project', 'Access', 'Agent']]\n",
    "\n",
    "components = pd.DataFrame([i.split(\"_\")[-3:] for i in test[\"Page\"]])\n",
    "components.columns = ['Project', 'Access', 'Agent']\n",
    "test[['Project', 'Access', 'Agent']] = components[['Project', 'Access', 'Agent']]\n",
    "\n",
    "del components"
   ]
  },
  {
   "cell_type": "code",
   "execution_count": 4,
   "metadata": {
    "collapsed": true
   },
   "outputs": [],
   "source": [
    "def create_features(df, month, target=None):\n",
    "    if type(target) != type(pd.DataFrame()):\n",
    "        target = df.loc[(df[\"date\"] >= pd.to_datetime(month)) & (df[\"date\"] <= pd.to_datetime(month) + relativedelta(months=2))]\n",
    "    temp = df.loc[(train[\"date\"] < pd.to_datetime(month) + relativedelta(days=-10)) & (df[\"date\"] >= pd.to_datetime(month) + relativedelta(days=-40))].copy()\n",
    "    temp = pd.pivot_table(temp, index=[\"Page\"], values=[\"Visits\"], columns=[\"date\"]).reset_index()\n",
    "    temp.columns = [\"lag_{}\".format(i)  if j[1] != \"\" else j[0] for i, j in enumerate(temp.columns)]\n",
    "\n",
    "    temp = target.merge(temp, on=\"Page\", how='left')\n",
    "\n",
    "    temp['Month']     = temp[\"date\"].dt.month\n",
    "    temp['Month']     = temp['Month'] - temp['Month'].min()\n",
    "    temp['Day']       = temp[\"date\"].dt.day\n",
    "    temp['DayOfWeek'] = temp[\"date\"].dt.dayofweek\n",
    "    return temp\n",
    "    "
   ]
  },
  {
   "cell_type": "code",
   "execution_count": 5,
   "metadata": {
    "collapsed": true
   },
   "outputs": [],
   "source": [
    "new_train = create_features(train, '2016-04-10')\n",
    "new_val = create_features(train, '2016-06-10')"
   ]
  },
  {
   "cell_type": "code",
   "execution_count": 6,
   "metadata": {
    "collapsed": true
   },
   "outputs": [],
   "source": [
    "train_cols = [ 'lag_1', 'lag_2', 'lag_3', 'lag_4', 'lag_5',\n",
    "               'lag_6', 'lag_7', 'lag_8', 'lag_9', 'lag_10', 'lag_11', 'lag_12',\n",
    "               'lag_13', 'lag_14', 'lag_15', 'lag_16', 'lag_17', 'lag_18', 'lag_19',\n",
    "               'lag_20', 'lag_21', 'lag_22', 'lag_23', 'lag_24', 'lag_25', 'lag_26',\n",
    "               'lag_27', 'lag_28', 'lag_29', 'lag_30', 'Month', 'Day', 'DayOfWeek', \n",
    "               \"lang\", \"Project\", \"Access\", \"Agent\"]"
   ]
  },
  {
   "cell_type": "code",
   "execution_count": 7,
   "metadata": {},
   "outputs": [
    {
     "name": "stdout",
     "output_type": "stream",
     "text": [
      "Train:      2016-04-10 - 2016-06-10\n",
      "Validation: 2016-06-10 - 2016-08-10\n"
     ]
    }
   ],
   "source": [
    "print(\"Train:      {} - {}\".format(str(new_train[\"date\"].min())[:10], str(new_train[\"date\"].max())[:10]))\n",
    "print(\"Validation: {} - {}\".format(str(new_val[\"date\"].min())[:10], str(new_val[\"date\"].max())[:10]))"
   ]
  },
  {
   "cell_type": "code",
   "execution_count": 8,
   "metadata": {
    "collapsed": true
   },
   "outputs": [],
   "source": [
    "label_encodings = {}\n",
    "for feature in [\"lang\", \"Project\", \"Access\", \"Agent\"]:\n",
    "    label_encodings[feature] = {}\n",
    "    for i, item in enumerate(train[feature].unique()):\n",
    "        label_encodings[feature][item] = i\n",
    "    new_train[feature] = new_train[feature].map(label_encodings[feature])\n",
    "    new_val[feature]   = new_val[feature].map(label_encodings[feature])"
   ]
  },
  {
   "cell_type": "code",
   "execution_count": 9,
   "metadata": {
    "collapsed": true
   },
   "outputs": [],
   "source": [
    "import lightgbm as lgb\n",
    "param = {}\n",
    "param['application'] = 'regression_l2'\n",
    "param['learning_rate'] = 0.1\n",
    "param['feature_fraction'] = 0.5\n",
    "param['bagging_fraction'] = 0.5\n",
    "param['bagging_freq'] = 1\n",
    "param['max_depth'] = 5\n",
    "param['num_threads'] = 4\n",
    "param[\"verbose\"] = 0\n",
    "\n",
    "from numba import jit\n",
    "import math\n",
    "\n",
    "@jit\n",
    "def smape_fast(y_true, y_pred):\n",
    "    out = 0\n",
    "    for i in range(y_true.shape[0]):\n",
    "        a = y_true[i]\n",
    "        b = y_pred[i]\n",
    "        if b < 1:\n",
    "            b = 0\n",
    "        c = a+b\n",
    "        if c == 0:\n",
    "            continue\n",
    "        out += math.fabs(a - b) / c\n",
    "    out *= (200.0 / y_true.shape[0])\n",
    "    return out\n",
    "\n",
    "def lgb_smape(preds, df):\n",
    "    labels = df.get_label()\n",
    "    labels, preds = np.expm1(np.array(labels)), np.expm1(np.array(preds))\n",
    "    return 'smape', smape_fast(labels, preds), False"
   ]
  },
  {
   "cell_type": "code",
   "execution_count": 10,
   "metadata": {},
   "outputs": [
    {
     "name": "stdout",
     "output_type": "stream",
     "text": [
      "[1]\ttraining's smape: 121.955\tvalid_1's smape: 119.773\n",
      "Training until validation scores don't improve for 10 rounds.\n",
      "[2]\ttraining's smape: 115.939\tvalid_1's smape: 113.628\n",
      "[3]\ttraining's smape: 109.997\tvalid_1's smape: 107.41\n",
      "[4]\ttraining's smape: 104.202\tvalid_1's smape: 101.563\n",
      "[5]\ttraining's smape: 98.5703\tvalid_1's smape: 95.8874\n",
      "[6]\ttraining's smape: 93.1954\tvalid_1's smape: 90.5326\n",
      "[7]\ttraining's smape: 88.1198\tvalid_1's smape: 85.4805\n",
      "[8]\ttraining's smape: 83.3916\tvalid_1's smape: 80.8659\n",
      "[9]\ttraining's smape: 79.0332\tvalid_1's smape: 76.6281\n",
      "[10]\ttraining's smape: 75.0285\tvalid_1's smape: 72.8782\n",
      "[11]\ttraining's smape: 71.3858\tvalid_1's smape: 69.4357\n",
      "[12]\ttraining's smape: 68.1204\tvalid_1's smape: 66.4626\n",
      "[13]\ttraining's smape: 65.1969\tvalid_1's smape: 63.7938\n",
      "[14]\ttraining's smape: 62.6089\tvalid_1's smape: 61.4658\n",
      "[15]\ttraining's smape: 60.3334\tvalid_1's smape: 59.5009\n",
      "[16]\ttraining's smape: 58.3473\tvalid_1's smape: 57.8185\n",
      "[17]\ttraining's smape: 56.6385\tvalid_1's smape: 56.4235\n",
      "[18]\ttraining's smape: 55.1779\tvalid_1's smape: 55.242\n",
      "[19]\ttraining's smape: 53.9319\tvalid_1's smape: 54.2643\n",
      "[20]\ttraining's smape: 52.8684\tvalid_1's smape: 53.4515\n",
      "[21]\ttraining's smape: 51.9772\tvalid_1's smape: 52.7731\n",
      "[22]\ttraining's smape: 51.2455\tvalid_1's smape: 52.2522\n",
      "[23]\ttraining's smape: 50.6193\tvalid_1's smape: 51.8247\n",
      "[24]\ttraining's smape: 50.0957\tvalid_1's smape: 51.485\n",
      "[25]\ttraining's smape: 49.6564\tvalid_1's smape: 51.2151\n",
      "[26]\ttraining's smape: 49.3003\tvalid_1's smape: 51.0063\n",
      "[27]\ttraining's smape: 48.9834\tvalid_1's smape: 50.8523\n",
      "[28]\ttraining's smape: 48.7121\tvalid_1's smape: 50.7362\n",
      "[29]\ttraining's smape: 48.4912\tvalid_1's smape: 50.654\n",
      "[30]\ttraining's smape: 48.1381\tvalid_1's smape: 50.3793\n",
      "[31]\ttraining's smape: 47.3995\tvalid_1's smape: 49.7033\n",
      "[32]\ttraining's smape: 47.1231\tvalid_1's smape: 49.5403\n",
      "[33]\ttraining's smape: 46.7962\tvalid_1's smape: 49.3331\n",
      "[34]\ttraining's smape: 46.668\tvalid_1's smape: 49.283\n",
      "[35]\ttraining's smape: 46.5541\tvalid_1's smape: 49.2268\n",
      "[36]\ttraining's smape: 46.3941\tvalid_1's smape: 49.1023\n",
      "[37]\ttraining's smape: 46.326\tvalid_1's smape: 49.0699\n",
      "[38]\ttraining's smape: 46.197\tvalid_1's smape: 48.9874\n",
      "[39]\ttraining's smape: 46.1479\tvalid_1's smape: 48.9958\n",
      "[40]\ttraining's smape: 46.0988\tvalid_1's smape: 49.0184\n",
      "[41]\ttraining's smape: 46.0534\tvalid_1's smape: 49.0238\n",
      "[42]\ttraining's smape: 46.0186\tvalid_1's smape: 49.0261\n",
      "[43]\ttraining's smape: 45.983\tvalid_1's smape: 49.036\n",
      "[44]\ttraining's smape: 45.9439\tvalid_1's smape: 49.0273\n",
      "[45]\ttraining's smape: 45.9244\tvalid_1's smape: 49.0407\n",
      "[46]\ttraining's smape: 45.8932\tvalid_1's smape: 49.0743\n",
      "[47]\ttraining's smape: 45.8469\tvalid_1's smape: 49.0699\n",
      "[48]\ttraining's smape: 45.836\tvalid_1's smape: 49.0809\n",
      "Early stopping, best iteration is:\n",
      "[38]\ttraining's smape: 46.197\tvalid_1's smape: 48.9874\n"
     ]
    }
   ],
   "source": [
    "lgb_train = lgb.Dataset(new_train[train_cols], label=new_train[\"Visits\"], free_raw_data=False)\n",
    "lgb_val = lgb.Dataset(new_val[train_cols], label=new_val[\"Visits\"], free_raw_data=False, reference=lgb_train)\n",
    "\n",
    "model = lgb.train(param, lgb_train, 1000, valid_sets=[lgb_train,lgb_val], feval=lgb_smape, early_stopping_rounds=10)"
   ]
  },
  {
   "cell_type": "code",
   "execution_count": 11,
   "metadata": {},
   "outputs": [
    {
     "data": {
      "text/plain": [
       "4475"
      ]
     },
     "execution_count": 11,
     "metadata": {},
     "output_type": "execute_result"
    }
   ],
   "source": [
    "gc.collect()"
   ]
  },
  {
   "cell_type": "code",
   "execution_count": 12,
   "metadata": {
    "collapsed": true
   },
   "outputs": [],
   "source": [
    "new_test = create_features(train, '2016-09-10', test)\n",
    "for feature in [\"lang\", \"Project\", \"Access\", \"Agent\"]:\n",
    "    new_test[feature] = new_test[feature].map(label_encodings[feature])"
   ]
  },
  {
   "cell_type": "code",
   "execution_count": 13,
   "metadata": {
    "collapsed": true
   },
   "outputs": [],
   "source": [
    "del train, new_train, test, lgb_train, lgb_val, model"
   ]
  },
  {
   "cell_type": "code",
   "execution_count": 14,
   "metadata": {},
   "outputs": [
    {
     "name": "stdout",
     "output_type": "stream",
     "text": [
      "[1]\ttraining's smape: 120.338\tvalid_1's smape: 121.412\n",
      "[2]\ttraining's smape: 114.399\tvalid_1's smape: 115.726\n",
      "[3]\ttraining's smape: 108.532\tvalid_1's smape: 110.142\n",
      "[4]\ttraining's smape: 102.838\tvalid_1's smape: 104.787\n",
      "[5]\ttraining's smape: 97.3527\tvalid_1's smape: 99.6209\n",
      "[6]\ttraining's smape: 92.1668\tvalid_1's smape: 94.6195\n",
      "[7]\ttraining's smape: 87.3049\tvalid_1's smape: 89.9616\n",
      "[8]\ttraining's smape: 82.7832\tvalid_1's smape: 85.6487\n",
      "[9]\ttraining's smape: 78.6107\tvalid_1's smape: 81.5776\n",
      "[10]\ttraining's smape: 74.8064\tvalid_1's smape: 77.8106\n",
      "[11]\ttraining's smape: 71.3679\tvalid_1's smape: 74.4555\n",
      "[12]\ttraining's smape: 68.2903\tvalid_1's smape: 71.4413\n",
      "[13]\ttraining's smape: 65.5484\tvalid_1's smape: 68.7282\n",
      "[14]\ttraining's smape: 63.1435\tvalid_1's smape: 66.3399\n",
      "[15]\ttraining's smape: 61.042\tvalid_1's smape: 64.2198\n",
      "[16]\ttraining's smape: 59.2098\tvalid_1's smape: 62.3592\n",
      "[17]\ttraining's smape: 57.6238\tvalid_1's smape: 60.7284\n",
      "[18]\ttraining's smape: 56.2559\tvalid_1's smape: 59.3224\n",
      "[19]\ttraining's smape: 55.1006\tvalid_1's smape: 58.123\n",
      "[20]\ttraining's smape: 54.1231\tvalid_1's smape: 57.1024\n",
      "[21]\ttraining's smape: 53.2871\tvalid_1's smape: 56.2233\n",
      "[22]\ttraining's smape: 52.5924\tvalid_1's smape: 55.4648\n",
      "[23]\ttraining's smape: 52.0006\tvalid_1's smape: 54.8412\n",
      "[24]\ttraining's smape: 51.5127\tvalid_1's smape: 54.3267\n",
      "[25]\ttraining's smape: 51.1005\tvalid_1's smape: 53.8656\n",
      "[26]\ttraining's smape: 49.9129\tvalid_1's smape: 52.5565\n",
      "[27]\ttraining's smape: 49.3303\tvalid_1's smape: 51.9232\n",
      "[28]\ttraining's smape: 48.9013\tvalid_1's smape: 51.4541\n",
      "[29]\ttraining's smape: 48.592\tvalid_1's smape: 51.1074\n",
      "[30]\ttraining's smape: 48.3701\tvalid_1's smape: 50.8672\n",
      "[31]\ttraining's smape: 48.1934\tvalid_1's smape: 50.6582\n",
      "[32]\ttraining's smape: 48.0745\tvalid_1's smape: 50.53\n",
      "[33]\ttraining's smape: 47.9782\tvalid_1's smape: 50.4109\n",
      "[34]\ttraining's smape: 47.8735\tvalid_1's smape: 50.3005\n",
      "[35]\ttraining's smape: 47.7895\tvalid_1's smape: 50.2099\n",
      "[36]\ttraining's smape: 47.7163\tvalid_1's smape: 50.1146\n",
      "[37]\ttraining's smape: 47.6686\tvalid_1's smape: 50.0495\n",
      "[38]\ttraining's smape: 47.6025\tvalid_1's smape: 49.99\n"
     ]
    }
   ],
   "source": [
    "lgb_train = lgb.Dataset(new_val[train_cols], label=new_val[\"Visits\"], free_raw_data=False)\n",
    "lgb_val = lgb.Dataset(new_test[train_cols], label=new_test[\"Visits\"], free_raw_data=False)\n",
    "\n",
    "model = lgb.train(param, lgb_train, 38, valid_sets=[lgb_train,lgb_val], feval=lgb_smape)"
   ]
  },
  {
   "cell_type": "code",
   "execution_count": null,
   "metadata": {
    "collapsed": true
   },
   "outputs": [],
   "source": []
  }
 ],
 "metadata": {
  "kernelspec": {
   "display_name": "Python 3",
   "language": "python",
   "name": "python3"
  },
  "language_info": {
   "codemirror_mode": {
    "name": "ipython",
    "version": 3
   },
   "file_extension": ".py",
   "mimetype": "text/x-python",
   "name": "python",
   "nbconvert_exporter": "python",
   "pygments_lexer": "ipython3",
   "version": "3.6.1"
  }
 },
 "nbformat": 4,
 "nbformat_minor": 2
}
